{
 "cells": [
  {
   "cell_type": "code",
   "execution_count": 1,
   "metadata": {},
   "outputs": [],
   "source": [
    "import torch \n",
    "prev = 0\n",
    "def b2mb(x): return int(x/2**20)\n",
    "def consume_gpu_ram(n): return torch.ones((n, n)).cuda()\n",
    "def consume_gpu_ram_64mb():   return consume_gpu_ram(2**12)\n",
    "def consume_gpu_ram_256mb():  return consume_gpu_ram(2**13)\n",
    "def consume_gpu_ram_1024mb(): return consume_gpu_ram(2**14)\n",
    "def mem(): \n",
    "    global prev\n",
    "    this = torch.cuda.memory_allocated()\n",
    "    delta_used = this - prev\n",
    "    prev = this\n",
    "    print(f\"used: {b2mb(delta_used):4d}, allocated: {b2mb(torch.cuda.memory_cached()):4d}\")"
   ]
  },
  {
   "cell_type": "code",
   "execution_count": 3,
   "metadata": {},
   "outputs": [
    {
     "name": "stdout",
     "output_type": "stream",
     "text": [
      "\n",
      "\n",
      "used: -128, allocated: 1024\n",
      "used:   64, allocated: 1024\n",
      "used:  256, allocated: 1024\n",
      "used: -256, allocated: 1024\n",
      "used:    0, allocated: 1024\n",
      "used:   64, allocated: 1024\n"
     ]
    }
   ],
   "source": [
    "\n",
    "print(f\"\\n\")\n",
    "x1 = consume_gpu_ram_1024mb()\n",
    "del x1\n",
    "mem()\n",
    "x2 = consume_gpu_ram_64mb()\n",
    "mem()\n",
    "x3 = consume_gpu_ram_256mb()\n",
    "mem()\n",
    "del x3\n",
    "mem()\n",
    "mem()\n",
    "x4 = consume_gpu_ram_64mb()\n",
    "x4 = consume_gpu_ram_64mb()\n",
    "mem()\n",
    "del x2, x4"
   ]
  }
 ],
 "metadata": {
  "hide_input": false,
  "kernelspec": {
   "display_name": "Python 3",
   "language": "python",
   "name": "python3"
  },
  "language_info": {
   "codemirror_mode": {
    "name": "ipython",
    "version": 3
   },
   "file_extension": ".py",
   "mimetype": "text/x-python",
   "name": "python",
   "nbconvert_exporter": "python",
   "pygments_lexer": "ipython3",
   "version": "3.7.1"
  },
  "toc": {
   "base_numbering": 1,
   "nav_menu": {},
   "number_sections": true,
   "sideBar": true,
   "skip_h1_title": false,
   "title_cell": "Table of Contents",
   "title_sidebar": "Contents",
   "toc_cell": false,
   "toc_position": {},
   "toc_section_display": true,
   "toc_window_display": true
  }
 },
 "nbformat": 4,
 "nbformat_minor": 2
}
