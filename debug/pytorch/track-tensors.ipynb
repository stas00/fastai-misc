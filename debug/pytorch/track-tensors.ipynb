{
 "cells": [
  {
   "cell_type": "markdown",
   "metadata": {},
   "source": [
    "# Track Tensors"
   ]
  },
  {
   "cell_type": "code",
   "execution_count": null,
   "metadata": {},
   "outputs": [],
   "source": [
    "import collections, gc, torch\n",
    "for obj in gc.get_objects():\n",
    "    try:\n",
    "        if torch.is_tensor(obj) or (hasattr(obj, 'data') and torch.is_tensor(obj.data)):\n",
    "            print(type(obj), obj.size())\n",
    "    except: pass\n",
    "\n",
    "# merge into this:\n",
    "def debug_memory():\n",
    "    import collections, gc, torch\n",
    "    tensors = collections.Counter((str(o.device), o.dtype, tuple(o.shape))\n",
    "                                  for o in gc.get_objects()\n",
    "                                  if torch.is_tensor(o))\n",
    "    for line in sorted(tensors.items()):\n",
    "        print('{}\\t{}'.format(*line))\n",
    "\n",
    "# and there is more code to integrate from:\n",
    "# https://discuss.pytorch.org/t/how-to-debug-causes-of-gpu-memory-leaks/6741\n",
    "\n",
    "# this is already partially documented in dev/gpu.md\n",
    "\n",
    "\n",
    "def clean_object_from_memory(obj):\n",
    "        del obj\n",
    "        gc.collect()\n",
    "        torch.cuda.empty_cache()\n",
    "def dump_tensors(gpu_only=True):\n",
    "            total_size = 0\n",
    "            for obj in gc.get_objects():\n",
    "                try:\n",
    "                    if torch.is_tensor(obj):\n",
    "                        if not gpu_only or obj.is_cuda:\n",
    "                            del obj\n",
    "                            gc.collect()\n",
    "                            torch.cuda.empty_cache()\n",
    "                    elif hasattr(obj, \"data\") and torch.is_tensor(obj.data):\n",
    "                        if not gpu_only or obj.is_cuda:\n",
    "                            del obj\n",
    "                            gc.collect()\n",
    "            torch.cuda.empty_cache()\n",
    "                except Exception as e:\n",
    "                    pass"
   ]
  }
 ],
 "metadata": {
  "hide_input": false,
  "kernelspec": {
   "display_name": "Python 3",
   "language": "python",
   "name": "python3"
  },
  "language_info": {
   "codemirror_mode": {
    "name": "ipython",
    "version": 3
   },
   "file_extension": ".py",
   "mimetype": "text/x-python",
   "name": "python",
   "nbconvert_exporter": "python",
   "pygments_lexer": "ipython3",
   "version": "3.7.1"
  },
  "toc": {
   "base_numbering": 1,
   "nav_menu": {},
   "number_sections": true,
   "sideBar": true,
   "skip_h1_title": false,
   "title_cell": "Table of Contents",
   "title_sidebar": "Contents",
   "toc_cell": false,
   "toc_position": {},
   "toc_section_display": true,
   "toc_window_display": true
  }
 },
 "nbformat": 4,
 "nbformat_minor": 2
}
