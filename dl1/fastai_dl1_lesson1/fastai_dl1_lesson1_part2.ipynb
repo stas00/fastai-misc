{
  "nbformat": 4,
  "nbformat_minor": 0,
  "metadata": {
    "colab": {
      "name": "fastai_ml1_lesson1-part2.ipynb",
      "version": "0.3.2",
      "views": {},
      "default_view": {},
      "provenance": [
        {
          "file_id": "1Yhmmws6eelhXs2WQHJ7BUMQO9Wu5MoQj",
          "timestamp": 1518203257331
        }
      ],
      "collapsed_sections": [],
      "toc_visible": true
    },
    "kernelspec": {
      "name": "python3",
      "display_name": "Python 3"
    },
    "accelerator": "GPU"
  },
  "cells": [
    {
      "metadata": {
        "id": "8UHJmiv-1vKR",
        "colab_type": "text"
      },
      "cell_type": "markdown",
      "source": [
        "# Fast AI DL1 Lesson 1 Part 2\n",
        "\n",
        "Split into 2 parts to accomodate the limited RAM on Colab.\n"
      ]
    },
    {
      "metadata": {
        "id": "JICit3FpomEj",
        "colab_type": "text"
      },
      "cell_type": "markdown",
      "source": [
        "### To cross check if notebook is running on GPU backend"
      ]
    },
    {
      "metadata": {
        "id": "zbsAy3mQo3bp",
        "colab_type": "text"
      },
      "cell_type": "markdown",
      "source": [
        "You should get **'/device:GPU:0'** if notebook is connected to GPU otherwise you will get **' '**"
      ]
    },
    {
      "metadata": {
        "id": "59rhEI5dmBBC",
        "colab_type": "code",
        "colab": {
          "autoexec": {
            "startup": false,
            "wait_interval": 0
          }
        }
      },
      "cell_type": "code",
      "source": [
        "# this resets the state of the machine (e.g. if you want to re-install from scratch  \n",
        "# or reset memory usage in this instance)\n",
        "# wait a minute after running it and then reload the page\n",
        "#!kill -9 -1"
      ],
      "execution_count": 0,
      "outputs": []
    },
    {
      "metadata": {
        "id": "DFM350tOowf1",
        "colab_type": "code",
        "colab": {
          "autoexec": {
            "startup": false,
            "wait_interval": 0
          },
          "base_uri": "https://localhost:8080/",
          "height": 573
        },
        "outputId": "27e4ce12-a336-4d11-d24a-99e6ec8f595c",
        "executionInfo": {
          "status": "ok",
          "timestamp": 1525793515500,
          "user_tz": 420,
          "elapsed": 18812,
          "user": {
            "displayName": "Stas Bekman",
            "photoUrl": "//lh5.googleusercontent.com/-xRbMIr7YjVQ/AAAAAAAAAAI/AAAAAAAAALU/2fwJIpvRiB0/s50-c-k-no/photo.jpg",
            "userId": "118276073810201132801"
          }
        }
      },
      "cell_type": "code",
      "source": [
        "# require GPU before doing anything else\n",
        "import tensorflow as tf\n",
        "dev = tf.test.gpu_device_name()\n",
        "if dev == '':\n",
        "  raise Exception('No GPU!')\n",
        "else :\n",
        "  print(dev)\n",
        "\n",
        "#!nvidia-smi --gpu-reset --id=0\n",
        "!df -h\n",
        "\n",
        "# memory footprint support libraries/code\n",
        "!ln -sf /opt/bin/nvidia-smi /usr/bin/nvidia-smi\n",
        "!pip install gputil\n",
        "!pip install psutil\n",
        "!pip install humanize\n",
        "\n",
        "import psutil\n",
        "import humanize\n",
        "import os\n",
        "import GPUtil as GPU\n",
        "import gc\n",
        "\n",
        "def print_proc_size():\n",
        "  process = psutil.Process(os.getpid())\n",
        "  print(\"proc size:\" + humanize.naturalsize( process.memory_info().rss) )\n",
        "\n",
        "# process size\n",
        "def print_mem_free():\n",
        "  print(\"available: \" + humanize.naturalsize( psutil.virtual_memory().available ) )\n",
        "\n",
        "def printm():\n",
        "  # clean up the memory\n",
        "  gc.collect()\n",
        "\n",
        "  GPUs = GPU.getGPUs()\n",
        "  # XXX: only one GPU on Colab and it's not guaranteed\n",
        "  gpu = GPUs[0]\n",
        "  \n",
        "  process = psutil.Process(os.getpid())\n",
        "  print(\"Gen RAM Free: \" + humanize.naturalsize( psutil.virtual_memory().available ), \" | Proc size: \" + humanize.naturalsize( process.memory_info().rss))\n",
        "  print('GPU RAM Free: {0:.0f}MB | Used: {1:.0f}MB | Util: {2:3.0f}% | Total: {3:.0f}MB'.format(gpu.memoryFree, gpu.memoryUsed, gpu.memoryUtil*100, gpu.memoryTotal))\n",
        "\n",
        "printm()\n",
        "\n"
      ],
      "execution_count": 2,
      "outputs": [
        {
          "output_type": "stream",
          "text": [
            "/device:GPU:0\n",
            "Filesystem      Size  Used Avail Use% Mounted on\n",
            "overlay         359G  5.9G  335G   2% /\n",
            "tmpfs           6.4G     0  6.4G   0% /dev\n",
            "tmpfs           6.4G     0  6.4G   0% /sys/fs/cgroup\n",
            "tmpfs           6.4G  248M  6.2G   4% /usr/lib64-nvidia\n",
            "/dev/root       1.2G  537M  684M  44% /opt/bin\n",
            "/dev/sda1       365G  7.3G  358G   2% /etc/hosts\n",
            "shm              64M     0   64M   0% /dev/shm\n",
            "tmpfs           6.4G     0  6.4G   0% /sys/firmware\n",
            "Collecting gputil\n",
            "  Downloading https://files.pythonhosted.org/packages/45/99/837428d26b47ebd6b66d6e1b180e98ec4a557767a93a81a02ea9d6242611/GPUtil-1.3.0.tar.gz\n",
            "Requirement already satisfied: numpy in /usr/local/lib/python3.6/dist-packages (from gputil) (1.14.3)\n",
            "Building wheels for collected packages: gputil\n",
            "  Running setup.py bdist_wheel for gputil ... \u001b[?25l-\b \bdone\n",
            "\u001b[?25h  Stored in directory: /content/.cache/pip/wheels/17/0f/04/b79c006972335e35472c0b835ed52bfc0815258d409f560108\n",
            "Successfully built gputil\n",
            "Installing collected packages: gputil\n",
            "Successfully installed gputil-1.3.0\n",
            "Requirement already satisfied: psutil in /usr/local/lib/python3.6/dist-packages (5.4.5)\n",
            "Collecting humanize\n",
            "  Downloading https://files.pythonhosted.org/packages/8c/e0/e512e4ac6d091fc990bbe13f9e0378f34cf6eecd1c6c268c9e598dcf5bb9/humanize-0.5.1.tar.gz\n",
            "Building wheels for collected packages: humanize\n",
            "  Running setup.py bdist_wheel for humanize ... \u001b[?25l-\b \bdone\n",
            "\u001b[?25h  Stored in directory: /content/.cache/pip/wheels/69/86/6c/f8b8593bc273ec4b0c653d3827f7482bb2001a2781a73b7f44\n",
            "Successfully built humanize\n",
            "Installing collected packages: humanize\n",
            "Successfully installed humanize-0.5.1\n",
            "Gen RAM Free: 12.0 GB  | Proc size: 986.1 MB\n",
            "GPU RAM Free: 564MB | Used: 10875MB | Util:  95% | Total: 11439MB\n"
          ],
          "name": "stdout"
        }
      ]
    },
    {
      "metadata": {
        "id": "GI67ipOtSyjq",
        "colab_type": "code",
        "colab": {
          "autoexec": {
            "startup": false,
            "wait_interval": 0
          },
          "base_uri": "https://localhost:8080/",
          "height": 198
        },
        "outputId": "e391bb10-bd04-4663-8b9f-d22dceac2658",
        "executionInfo": {
          "status": "ok",
          "timestamp": 1525793532949,
          "user_tz": 420,
          "elapsed": 17411,
          "user": {
            "displayName": "Stas Bekman",
            "photoUrl": "//lh5.googleusercontent.com/-xRbMIr7YjVQ/AAAAAAAAAAI/AAAAAAAAALU/2fwJIpvRiB0/s50-c-k-no/photo.jpg",
            "userId": "118276073810201132801"
          }
        }
      },
      "cell_type": "code",
      "source": [
        "!pip install scipy==1.1.0"
      ],
      "execution_count": 3,
      "outputs": [
        {
          "output_type": "stream",
          "text": [
            "Collecting scipy==1.1.0\n",
            "\u001b[?25l  Downloading https://files.pythonhosted.org/packages/a8/0b/f163da98d3a01b3e0ef1cab8dd2123c34aee2bafbb1c5bffa354cc8a1730/scipy-1.1.0-cp36-cp36m-manylinux1_x86_64.whl (31.2MB)\n",
            "\u001b[K    100% |████████████████████████████████| 31.2MB 1.4MB/s \n",
            "\u001b[?25hRequirement already satisfied: numpy>=1.8.2 in /usr/local/lib/python3.6/dist-packages (from scipy==1.1.0) (1.14.3)\n",
            "Installing collected packages: scipy\n",
            "  Found existing installation: scipy 0.19.1\n",
            "    Uninstalling scipy-0.19.1:\n",
            "      Successfully uninstalled scipy-0.19.1\n",
            "Successfully installed scipy-1.1.0\n"
          ],
          "name": "stdout"
        }
      ]
    },
    {
      "metadata": {
        "id": "fYJaohBtn0T6",
        "colab_type": "text"
      },
      "cell_type": "markdown",
      "source": [
        "##Additional Setup for Google Colab"
      ]
    },
    {
      "metadata": {
        "id": "gX4qAYJLoBs8",
        "colab_type": "text"
      },
      "cell_type": "markdown",
      "source": [
        "###Installing Pytorch"
      ]
    },
    {
      "metadata": {
        "id": "9SaTesf4sDlG",
        "colab_type": "code",
        "colab": {
          "autoexec": {
            "startup": false,
            "wait_interval": 0
          },
          "base_uri": "https://localhost:8080/",
          "height": 430
        },
        "outputId": "cdb020e3-9d72-4210-c202-a069ccbd27e4",
        "executionInfo": {
          "status": "ok",
          "timestamp": 1525793568118,
          "user_tz": 420,
          "elapsed": 35140,
          "user": {
            "displayName": "Stas Bekman",
            "photoUrl": "//lh5.googleusercontent.com/-xRbMIr7YjVQ/AAAAAAAAAAI/AAAAAAAAALU/2fwJIpvRiB0/s50-c-k-no/photo.jpg",
            "userId": "118276073810201132801"
          }
        }
      },
      "cell_type": "code",
      "source": [
        "#!pip install http://download.pytorch.org/whl/cu80/torch-0.3.0.post4-cp36-cp36m-linux_x86_64.whl && pip install torchvision\n",
        "!pip install http://download.pytorch.org/whl/cu75/torch-0.3.0.post4-cp36-cp36m-linux_x86_64.whl  && pip install torchvision"
      ],
      "execution_count": 4,
      "outputs": [
        {
          "output_type": "stream",
          "text": [
            "Collecting torch==0.3.0.post4 from http://download.pytorch.org/whl/cu75/torch-0.3.0.post4-cp36-cp36m-linux_x86_64.whl\n",
            "\u001b[?25l  Downloading http://download.pytorch.org/whl/cu75/torch-0.3.0.post4-cp36-cp36m-linux_x86_64.whl (397.4MB)\n",
            "\u001b[K    100% |████████████████████████████████| 397.4MB 50.7MB/s \n",
            "\u001b[?25hRequirement already satisfied: pyyaml in /usr/local/lib/python3.6/dist-packages (from torch==0.3.0.post4) (3.12)\n",
            "Requirement already satisfied: numpy in /usr/local/lib/python3.6/dist-packages (from torch==0.3.0.post4) (1.14.3)\n",
            "Installing collected packages: torch\n",
            "Successfully installed torch-0.3.0.post4\n",
            "Collecting torchvision\n",
            "\u001b[?25l  Downloading https://files.pythonhosted.org/packages/ca/0d/f00b2885711e08bd71242ebe7b96561e6f6d01fdb4b9dcf4d37e2e13c5e1/torchvision-0.2.1-py2.py3-none-any.whl (54kB)\n",
            "\u001b[K    100% |████████████████████████████████| 61kB 2.3MB/s \n",
            "\u001b[?25hCollecting pillow>=4.1.1 (from torchvision)\n",
            "\u001b[?25l  Downloading https://files.pythonhosted.org/packages/5f/4b/8b54ab9d37b93998c81b364557dff9f61972c0f650efa0ceaf470b392740/Pillow-5.1.0-cp36-cp36m-manylinux1_x86_64.whl (2.0MB)\n",
            "\u001b[K    100% |████████████████████████████████| 2.0MB 7.6MB/s \n",
            "\u001b[?25hRequirement already satisfied: numpy in /usr/local/lib/python3.6/dist-packages (from torchvision) (1.14.3)\n",
            "Requirement already satisfied: six in /usr/local/lib/python3.6/dist-packages (from torchvision) (1.11.0)\n",
            "Requirement already satisfied: torch in /usr/local/lib/python3.6/dist-packages (from torchvision) (0.3.0.post4)\n",
            "Requirement already satisfied: pyyaml in /usr/local/lib/python3.6/dist-packages (from torch->torchvision) (3.12)\n",
            "Installing collected packages: pillow, torchvision\n",
            "  Found existing installation: Pillow 4.0.0\n",
            "    Uninstalling Pillow-4.0.0:\n",
            "      Successfully uninstalled Pillow-4.0.0\n"
          ],
          "name": "stdout"
        },
        {
          "output_type": "stream",
          "text": [
            "Successfully installed pillow-5.1.0 torchvision-0.2.1\r\n"
          ],
          "name": "stdout"
        }
      ]
    },
    {
      "metadata": {
        "id": "H7Y97zTktxOY",
        "colab_type": "text"
      },
      "cell_type": "markdown",
      "source": [
        "###Installing fastai"
      ]
    },
    {
      "metadata": {
        "id": "WPjt9Otkt4Pq",
        "colab_type": "code",
        "colab": {
          "autoexec": {
            "startup": false,
            "wait_interval": 0
          },
          "base_uri": "https://localhost:8080/",
          "height": 3557
        },
        "outputId": "f9e592ea-4ed0-48da-8f56-93c074f0fd30",
        "executionInfo": {
          "status": "ok",
          "timestamp": 1525793665507,
          "user_tz": 420,
          "elapsed": 97361,
          "user": {
            "displayName": "Stas Bekman",
            "photoUrl": "//lh5.googleusercontent.com/-xRbMIr7YjVQ/AAAAAAAAAAI/AAAAAAAAALU/2fwJIpvRiB0/s50-c-k-no/photo.jpg",
            "userId": "118276073810201132801"
          }
        }
      },
      "cell_type": "code",
      "source": [
        "\n",
        "\n",
        "# fix Failed to display Jupyter Widget of type HBox (but still shows warning: Widget Javascript not detected...)\n",
        "\n",
        "#!pip uninstall -y fastai\n",
        "#!pip install fastai\n",
        "#!pip install git+https://github.com/stas00/fastai\n",
        "!pip install https://github.com/fastai/fastai/archive/master.zip \n",
        "#!pip install git+https://github.com/jfpettit/fastai"
      ],
      "execution_count": 5,
      "outputs": [
        {
          "output_type": "stream",
          "text": [
            "Collecting https://github.com/fastai/fastai/archive/master.zip\n",
            "\u001b[?25l  Downloading https://github.com/fastai/fastai/archive/master.zip (89.9MB)\n",
            "\u001b[K    100% |████████████████████████████████| 89.9MB 339kB/s \n",
            "\u001b[?25hCollecting awscli (from fastai==0.6)\n",
            "\u001b[?25l  Downloading https://files.pythonhosted.org/packages/78/5c/efd9fef62acc9fba7a0cb463673b14d537f45abd4f67bec998955b67fd7d/awscli-1.15.15-py2.py3-none-any.whl (1.3MB)\n",
            "\u001b[K    100% |████████████████████████████████| 1.3MB 6.6MB/s \n",
            "\u001b[?25hCollecting bcolz (from fastai==0.6)\n",
            "\u001b[?25l  Downloading https://files.pythonhosted.org/packages/5c/4e/23942de9d5c0fb16f10335fa83e52b431bcb8c0d4a8419c9ac206268c279/bcolz-1.2.1.tar.gz (1.5MB)\n",
            "\u001b[K    100% |████████████████████████████████| 1.5MB 5.6MB/s \n",
            "\u001b[?25hRequirement already satisfied: bleach in /usr/local/lib/python3.6/dist-packages (from fastai==0.6) (1.5.0)\n",
            "Requirement already satisfied: certifi in /usr/local/lib/python3.6/dist-packages (from fastai==0.6) (2018.4.16)\n",
            "Requirement already satisfied: cycler in /usr/local/lib/python3.6/dist-packages (from fastai==0.6) (0.10.0)\n",
            "Requirement already satisfied: decorator in /usr/local/lib/python3.6/dist-packages (from fastai==0.6) (4.3.0)\n",
            "Requirement already satisfied: entrypoints in /usr/local/lib/python3.6/dist-packages (from fastai==0.6) (0.2.3)\n",
            "Collecting feather-format (from fastai==0.6)\n",
            "  Downloading https://files.pythonhosted.org/packages/08/55/940b97cc6f19a19f5dab9efef2f68a0ce43a7632f858b272391f0b851a7e/feather-format-0.4.0.tar.gz\n",
            "Collecting graphviz (from fastai==0.6)\n",
            "  Downloading https://files.pythonhosted.org/packages/84/44/21a7fdd50841aaaef224b943f7d10df87e476e181bb926ccf859bcb53d48/graphviz-0.8.3-py2.py3-none-any.whl\n",
            "Requirement already satisfied: html5lib in /usr/local/lib/python3.6/dist-packages (from fastai==0.6) (0.9999999)\n",
            "Requirement already satisfied: ipykernel in /usr/local/lib/python3.6/dist-packages (from fastai==0.6) (4.6.1)\n",
            "Requirement already satisfied: ipython in /usr/local/lib/python3.6/dist-packages (from fastai==0.6) (5.5.0)\n",
            "Requirement already satisfied: ipython-genutils in /usr/local/lib/python3.6/dist-packages (from fastai==0.6) (0.2.0)\n",
            "Collecting ipywidgets (from fastai==0.6)\n",
            "\u001b[?25l  Downloading https://files.pythonhosted.org/packages/7d/24/fabc09ad81c6071159a4d12d5bfbddcbea69bd9e3b16c3250ef300c0285f/ipywidgets-7.2.1-py2.py3-none-any.whl (106kB)\n",
            "\u001b[K    100% |████████████████████████████████| 112kB 17.2MB/s \n",
            "\u001b[?25hCollecting isoweek (from fastai==0.6)\n",
            "  Downloading https://files.pythonhosted.org/packages/c2/d4/fe7e2637975c476734fcbf53776e650a29680194eb0dd21dbdc020ca92de/isoweek-1.3.3-py2.py3-none-any.whl\n",
            "Collecting jedi (from fastai==0.6)\n",
            "\u001b[?25l  Downloading https://files.pythonhosted.org/packages/e7/42/074192a165622e645ed4aeade63e76e56b3496a044569b3c6cae3a918352/jedi-0.12.0-py2.py3-none-any.whl (172kB)\n",
            "\u001b[K    100% |████████████████████████████████| 174kB 14.4MB/s \n",
            "\u001b[?25hRequirement already satisfied: Jinja2 in /usr/local/lib/python3.6/dist-packages (from fastai==0.6) (2.10)\n",
            "Requirement already satisfied: jsonschema in /usr/local/lib/python3.6/dist-packages (from fastai==0.6) (2.6.0)\n",
            "Collecting jupyter (from fastai==0.6)\n",
            "  Downloading https://files.pythonhosted.org/packages/83/df/0f5dd132200728a86190397e1ea87cd76244e42d39ec5e88efd25b2abd7e/jupyter-1.0.0-py2.py3-none-any.whl\n",
            "Requirement already satisfied: jupyter-client in /usr/local/lib/python3.6/dist-packages (from fastai==0.6) (5.2.3)\n",
            "Collecting jupyter-console (from fastai==0.6)\n",
            "  Downloading https://files.pythonhosted.org/packages/77/82/6469cd7fccf7958cbe5dce2e623f1e3c5e27f1bb1ad36d90519bc2d5d370/jupyter_console-5.2.0-py2.py3-none-any.whl\n",
            "Collecting jupyter_contrib_nbextensions (from fastai==0.6)\n",
            "\u001b[?25l  Downloading https://files.pythonhosted.org/packages/d2/f1/57cd4d05d7f070e662844a925d6f6d726ecaf93d8cc2d7b56a66c765fb42/jupyter_contrib_nbextensions-0.5.0-py2.py3-none-any.whl (20.9MB)\n",
            "\u001b[K    48% |███████████████▋                | 10.2MB 36.0MB/s eta 0:00:01"
          ],
          "name": "stdout"
        },
        {
          "output_type": "stream",
          "text": [
            "\u001b[K    100% |████████████████████████████████| 20.9MB 1.7MB/s \n",
            "\u001b[?25hRequirement already satisfied: jupyter-core in /usr/local/lib/python3.6/dist-packages (from fastai==0.6) (4.4.0)\n",
            "Collecting kaggle-cli (from fastai==0.6)\n",
            "  Downloading https://files.pythonhosted.org/packages/67/61/710d02460bc4367ffd1f5e71cd9c031fb278f78aa0e8e32ca9dd99a2add8/kaggle-cli-0.12.13.tar.gz\n",
            "Requirement already satisfied: MarkupSafe in /usr/local/lib/python3.6/dist-packages (from fastai==0.6) (1.0)\n",
            "Requirement already satisfied: matplotlib in /usr/local/lib/python3.6/dist-packages (from fastai==0.6) (2.1.2)\n",
            "Requirement already satisfied: mistune in /usr/local/lib/python3.6/dist-packages (from fastai==0.6) (0.8.3)\n",
            "Requirement already satisfied: nbconvert in /usr/local/lib/python3.6/dist-packages (from fastai==0.6) (5.3.1)\n",
            "Requirement already satisfied: nbformat in /usr/local/lib/python3.6/dist-packages (from fastai==0.6) (4.4.0)\n",
            "Requirement already satisfied: notebook in /usr/local/lib/python3.6/dist-packages (from fastai==0.6) (5.2.2)\n",
            "Requirement already satisfied: numpy in /usr/local/lib/python3.6/dist-packages (from fastai==0.6) (1.14.3)\n",
            "Requirement already satisfied: olefile in /usr/local/lib/python3.6/dist-packages (from fastai==0.6) (0.45.1)\n",
            "Requirement already satisfied: opencv-python in /usr/local/lib/python3.6/dist-packages (from fastai==0.6) (3.4.0.12)\n",
            "Requirement already satisfied: pandas in /usr/local/lib/python3.6/dist-packages (from fastai==0.6) (0.22.0)\n",
            "Collecting pandas_summary (from fastai==0.6)\n",
            "  Downloading https://files.pythonhosted.org/packages/3d/a7/0364272be0c6561c45d67edec8a7bf0532d56b830438168f9078f7720f63/pandas-summary-0.0.41.tar.gz\n",
            "Requirement already satisfied: pandocfilters in /usr/local/lib/python3.6/dist-packages (from fastai==0.6) (1.4.2)\n",
            "Requirement already satisfied: pexpect in /usr/local/lib/python3.6/dist-packages (from fastai==0.6) (4.5.0)\n",
            "Requirement already satisfied: pickleshare in /usr/local/lib/python3.6/dist-packages (from fastai==0.6) (0.7.4)\n",
            "Requirement already satisfied: Pillow in /usr/local/lib/python3.6/dist-packages (from fastai==0.6) (5.1.0)\n",
            "Collecting plotnine (from fastai==0.6)\n",
            "\u001b[?25l  Downloading https://files.pythonhosted.org/packages/3a/68/cf39dfde4e9fd886703621e3393cd8103cb48d5ecc95b8f048ec148e53a6/plotnine-0.3.0-py2.py3-none-any.whl (3.4MB)\n",
            "\u001b[K    100% |████████████████████████████████| 3.4MB 11.4MB/s \n",
            "\u001b[?25hRequirement already satisfied: prompt-toolkit in /usr/local/lib/python3.6/dist-packages (from fastai==0.6) (1.0.15)\n",
            "Requirement already satisfied: ptyprocess in /usr/local/lib/python3.6/dist-packages (from fastai==0.6) (0.5.2)\n",
            "Requirement already satisfied: Pygments in /usr/local/lib/python3.6/dist-packages (from fastai==0.6) (2.1.3)\n",
            "Requirement already satisfied: pyparsing in /usr/local/lib/python3.6/dist-packages (from fastai==0.6) (2.2.0)\n",
            "Requirement already satisfied: python-dateutil in /usr/local/lib/python3.6/dist-packages (from fastai==0.6) (2.5.3)\n",
            "Requirement already satisfied: pytz in /usr/local/lib/python3.6/dist-packages (from fastai==0.6) (2018.4)\n",
            "Requirement already satisfied: PyYAML in /usr/local/lib/python3.6/dist-packages (from fastai==0.6) (3.12)\n",
            "Requirement already satisfied: pyzmq in /usr/local/lib/python3.6/dist-packages (from fastai==0.6) (16.0.4)\n",
            "Collecting qtconsole (from fastai==0.6)\n",
            "\u001b[?25l  Downloading https://files.pythonhosted.org/packages/90/ff/047e0dca2627b162866920e7aa93f04523c0ae81e5c67060eec85701992d/qtconsole-4.3.1-py2.py3-none-any.whl (108kB)\n",
            "\u001b[K    100% |████████████████████████████████| 112kB 23.5MB/s \n",
            "\u001b[?25hRequirement already satisfied: scipy in /usr/local/lib/python3.6/dist-packages (from fastai==0.6) (1.1.0)\n",
            "Requirement already satisfied: seaborn in /usr/local/lib/python3.6/dist-packages (from fastai==0.6) (0.7.1)\n",
            "Requirement already satisfied: simplegeneric in /usr/local/lib/python3.6/dist-packages (from fastai==0.6) (0.8.1)\n",
            "Requirement already satisfied: six in /usr/local/lib/python3.6/dist-packages (from fastai==0.6) (1.11.0)\n",
            "Collecting sklearn_pandas (from fastai==0.6)\n",
            "  Downloading https://files.pythonhosted.org/packages/c5/9e/42d7bcddb09a3ff52d0c60c810ba5d0fded28abbe320c85bbf7368192956/sklearn_pandas-1.6.0-py2.py3-none-any.whl\n",
            "Requirement already satisfied: terminado in /usr/local/lib/python3.6/dist-packages (from fastai==0.6) (0.8.1)\n",
            "Requirement already satisfied: testpath in /usr/local/lib/python3.6/dist-packages (from fastai==0.6) (0.3.1)\n",
            "Collecting torchtext (from fastai==0.6)\n",
            "\u001b[?25l  Downloading https://files.pythonhosted.org/packages/78/90/474d5944d43001a6e72b9aaed5c3e4f77516fbef2317002da2096fd8b5ea/torchtext-0.2.3.tar.gz (42kB)\n",
            "\u001b[K    100% |████████████████████████████████| 51kB 8.8MB/s \n",
            "\u001b[?25hRequirement already satisfied: tornado in /usr/local/lib/python3.6/dist-packages (from fastai==0.6) (4.5.3)\n",
            "Collecting tqdm (from fastai==0.6)\n",
            "\u001b[?25l  Downloading https://files.pythonhosted.org/packages/d8/ca/6524dfba7a0e850d3fda223693779035ddc8bf5c242acd9ee4eb9e52711a/tqdm-4.23.3-py2.py3-none-any.whl (42kB)\n",
            "\u001b[K    100% |████████████████████████████████| 51kB 16.0MB/s \n",
            "\u001b[?25hRequirement already satisfied: traitlets in /usr/local/lib/python3.6/dist-packages (from fastai==0.6) (4.3.2)\n",
            "Requirement already satisfied: wcwidth in /usr/local/lib/python3.6/dist-packages (from fastai==0.6) (0.1.7)\n",
            "Requirement already satisfied: webencodings in /usr/local/lib/python3.6/dist-packages (from fastai==0.6) (0.5.1)\n",
            "Collecting widgetsnbextension (from fastai==0.6)\n",
            "\u001b[?25l  Downloading https://files.pythonhosted.org/packages/ff/fa/64acc09fc845a6b2dc0724d6f3f81e829b778ed5e9a7559567b4f19a3f4b/widgetsnbextension-3.2.1-py2.py3-none-any.whl (2.2MB)\n",
            "\u001b[K    78% |█████████████████████████▏      | 1.7MB 37.4MB/s eta 0:00:01"
          ],
          "name": "stdout"
        },
        {
          "output_type": "stream",
          "text": [
            "\u001b[K    100% |████████████████████████████████| 2.2MB 12.1MB/s \n",
            "\u001b[?25hCollecting s3transfer<0.2.0,>=0.1.12 (from awscli->fastai==0.6)\n",
            "\u001b[?25l  Downloading https://files.pythonhosted.org/packages/d7/14/2a0004d487464d120c9fb85313a75cd3d71a7506955be458eebfe19a6b1d/s3transfer-0.1.13-py2.py3-none-any.whl (59kB)\n",
            "\u001b[K    100% |████████████████████████████████| 61kB 19.3MB/s \n",
            "\u001b[?25hCollecting colorama<=0.3.7,>=0.2.5 (from awscli->fastai==0.6)\n",
            "  Downloading https://files.pythonhosted.org/packages/b7/8e/ddb32ddaabd431813e180ca224e844bab8ad42fbb47ee07553f0ec44cd86/colorama-0.3.7-py2.py3-none-any.whl\n",
            "Collecting docutils>=0.10 (from awscli->fastai==0.6)\n",
            "\u001b[?25l  Downloading https://files.pythonhosted.org/packages/36/fa/08e9e6e0e3cbd1d362c3bbee8d01d0aedb2155c4ac112b19ef3cae8eed8d/docutils-0.14-py3-none-any.whl (543kB)\n",
            "\u001b[K    100% |████████████████████████████████| 552kB 24.0MB/s \n",
            "\u001b[?25hRequirement already satisfied: rsa<=3.5.0,>=3.1.2 in /usr/local/lib/python3.6/dist-packages (from awscli->fastai==0.6) (3.4.2)\n",
            "Collecting botocore==1.10.15 (from awscli->fastai==0.6)\n",
            "\u001b[?25l  Downloading https://files.pythonhosted.org/packages/3e/a2/4eddf990705eccdda115d8e9e7c20fa21615704ed0806fc9eba6c2fcaad5/botocore-1.10.15-py2.py3-none-any.whl (4.2MB)\n",
            "\u001b[K    100% |████████████████████████████████| 4.2MB 9.8MB/s \n",
            "\u001b[?25hCollecting pyarrow>=0.4.0 (from feather-format->fastai==0.6)\n",
            "\u001b[?25l  Downloading https://files.pythonhosted.org/packages/fe/27/576e6c979bfa5f63070f809c930aa85d6198b91d17a64866234597ba861f/pyarrow-0.9.0-cp36-cp36m-manylinux1_x86_64.whl (13.7MB)\n",
            "\u001b[K    100% |████████████████████████████████| 13.7MB 3.2MB/s \n",
            "\u001b[?25hRequirement already satisfied: setuptools>=18.5 in /usr/local/lib/python3.6/dist-packages (from ipython->fastai==0.6) (39.1.0)\n",
            "Collecting parso>=0.2.0 (from jedi->fastai==0.6)\n",
            "\u001b[?25l  Downloading https://files.pythonhosted.org/packages/63/69/0c383765d192006330bfaae27a2c5d0933fb4760c5aacd933b8b19391693/parso-0.2.0-py2.py3-none-any.whl (90kB)\n",
            "\u001b[K    100% |████████████████████████████████| 92kB 16.0MB/s \n",
            "\u001b[?25hCollecting lxml (from jupyter_contrib_nbextensions->fastai==0.6)\n",
            "\u001b[?25l  Downloading https://files.pythonhosted.org/packages/a7/b9/ccf46cea0f698b40bca2a9c1a44039c336fe1988b82de4f7353be7a8396a/lxml-4.2.1-cp36-cp36m-manylinux1_x86_64.whl (5.6MB)\n",
            "\u001b[K    100% |████████████████████████████████| 5.7MB 10.6MB/s \n",
            "\u001b[?25hCollecting jupyter-highlight-selected-word>=0.1.1 (from jupyter_contrib_nbextensions->fastai==0.6)\n",
            "  Downloading https://files.pythonhosted.org/packages/50/d7/19ab7cfd60bf268d2abbacc52d4295a40f52d74dfc0d938e4761ee5e598b/jupyter_highlight_selected_word-0.2.0-py2.py3-none-any.whl\n",
            "Collecting jupyter-nbextensions-configurator>=0.4.0 (from jupyter_contrib_nbextensions->fastai==0.6)\n",
            "\u001b[?25l  Downloading https://files.pythonhosted.org/packages/d1/d8/6bf103e0eafd17caef39c37ff70b8d61bfb21cc8cd91c81ba51755421a34/jupyter_nbextensions_configurator-0.4.0-py2.py3-none-any.whl (466kB)\n",
            "\u001b[K    100% |████████████████████████████████| 471kB 23.5MB/s \n",
            "\u001b[?25hCollecting jupyter-latex-envs>=1.3.8 (from jupyter_contrib_nbextensions->fastai==0.6)\n",
            "\u001b[?25l  Downloading https://files.pythonhosted.org/packages/98/db/ef83fb7a8dd71a1c38d8cc5484bb5226dcd8dd996483d6ad3d944670c57b/jupyter_latex_envs-1.4.4.tar.gz (855kB)\n",
            "\u001b[K    100% |████████████████████████████████| 860kB 20.7MB/s \n",
            "\u001b[?25hCollecting jupyter-contrib-core>=0.3.3 (from jupyter_contrib_nbextensions->fastai==0.6)\n",
            "  Downloading https://files.pythonhosted.org/packages/e6/8f/04a752a8b66a66e7092c035e5d87d2502ac7ec07f9fb6059059b6c0dc272/jupyter_contrib_core-0.3.3-py2.py3-none-any.whl\n",
            "Collecting cliff<2.9,>=2.8.0 (from kaggle-cli->fastai==0.6)\n",
            "\u001b[?25l  Downloading https://files.pythonhosted.org/packages/ee/e8/140ad9b5826920a8b85c187095e7725b87b913fc40243aa66dd04e9d82d6/cliff-2.8.1.tar.gz (73kB)\n",
            "\u001b[K    100% |████████████████████████████████| 81kB 8.3MB/s \n",
            "\u001b[?25hCollecting MechanicalSoup<0.9,>=0.7.0 (from kaggle-cli->fastai==0.6)\n",
            "  Downloading https://files.pythonhosted.org/packages/5c/2e/f63ed26b51e36efa4cc22cad18187fcb0a253f756d548c96bb931f13de98/MechanicalSoup-0.8.0-py2.py3-none-any.whl\n",
            "Collecting cssselect<1.1,>=1.0.1 (from kaggle-cli->fastai==0.6)\n",
            "  Downloading https://files.pythonhosted.org/packages/7b/44/25b7283e50585f0b4156960691d951b05d061abf4a714078393e51929b30/cssselect-1.0.3-py2.py3-none-any.whl\n",
            "Collecting configparser (from kaggle-cli->fastai==0.6)\n"
          ],
          "name": "stdout"
        },
        {
          "output_type": "stream",
          "text": [
            "  Downloading https://files.pythonhosted.org/packages/7c/69/c2ce7e91c89dc073eb1aa74c0621c3eefbffe8216b3f9af9d3885265c01c/configparser-3.5.0.tar.gz\n",
            "Collecting progressbar2<3.35,>=3.34.3 (from kaggle-cli->fastai==0.6)\n",
            "  Downloading https://files.pythonhosted.org/packages/87/31/b984e17bcc7491c1baeda3906fe3abc14cb5cd5dbd046ab46d9fc7a2edfd/progressbar2-3.34.3-py2.py3-none-any.whl\n",
            "Requirement already satisfied: beautifulsoup4<4.7,>=4.6.0 in /usr/local/lib/python3.6/dist-packages (from kaggle-cli->fastai==0.6) (4.6.0)\n",
            "Requirement already satisfied: patsy>=0.4.1 in /usr/local/lib/python3.6/dist-packages (from plotnine->fastai==0.6) (0.5.0)\n",
            "Collecting mizani>=0.4.1 (from plotnine->fastai==0.6)\n",
            "\u001b[?25l  Downloading https://files.pythonhosted.org/packages/52/01/8a3b4c6e45749674a1e5241174b4b63cd6435125e124bec275f3e02c96ac/mizani-0.4.6-py2.py3-none-any.whl (65kB)\n",
            "\u001b[K    100% |████████████████████████████████| 71kB 17.7MB/s \n",
            "\u001b[?25hRequirement already satisfied: statsmodels>=0.8.0 in /usr/local/lib/python3.6/dist-packages (from plotnine->fastai==0.6) (0.8.0)\n",
            "Requirement already satisfied: scikit-learn>=0.15.0 in /usr/local/lib/python3.6/dist-packages (from sklearn_pandas->fastai==0.6) (0.19.1)\n",
            "Requirement already satisfied: requests in /usr/local/lib/python3.6/dist-packages (from torchtext->fastai==0.6) (2.18.4)\n",
            "Requirement already satisfied: pyasn1>=0.1.3 in /usr/local/lib/python3.6/dist-packages (from rsa<=3.5.0,>=3.1.2->awscli->fastai==0.6) (0.4.2)\n",
            "Collecting jmespath<1.0.0,>=0.7.1 (from botocore==1.10.15->awscli->fastai==0.6)\n",
            "  Downloading https://files.pythonhosted.org/packages/b7/31/05c8d001f7f87f0f07289a5fc0fc3832e9a57f2dbd4d3b0fee70e0d51365/jmespath-0.9.3-py2.py3-none-any.whl\n",
            "Collecting pbr!=2.1.0,>=2.0.0 (from cliff<2.9,>=2.8.0->kaggle-cli->fastai==0.6)\n",
            "\u001b[33m  Cache entry deserialization failed, entry ignored\u001b[0m\n",
            "\u001b[?25l  Downloading https://files.pythonhosted.org/packages/e1/ba/f95e3ec83f93919b1437028e989cf3fa5ff4f5cae4a1f62255f71deddb5b/pbr-4.0.2-py2.py3-none-any.whl (98kB)\n",
            "\u001b[K    100% |████████████████████████████████| 102kB 21.8MB/s \n",
            "\u001b[?25hCollecting cmd2>=0.6.7 (from cliff<2.9,>=2.8.0->kaggle-cli->fastai==0.6)\n",
            "\u001b[?25l  Downloading https://files.pythonhosted.org/packages/ee/02/faa35704449a68f18db39ee9a047e32c8b569e672daadfef3501259fe6bb/cmd2-0.8.5-py2.py3-none-any.whl (51kB)\n",
            "\u001b[K    100% |████████████████████████████████| 61kB 20.9MB/s \n",
            "\u001b[?25hCollecting PrettyTable<0.8,>=0.7.1 (from cliff<2.9,>=2.8.0->kaggle-cli->fastai==0.6)\n",
            "  Downloading https://files.pythonhosted.org/packages/ef/30/4b0746848746ed5941f052479e7c23d2b56d174b82f4fd34a25e389831f5/prettytable-0.7.2.tar.bz2\n",
            "Collecting stevedore>=1.20.0 (from cliff<2.9,>=2.8.0->kaggle-cli->fastai==0.6)\n",
            "  Downloading https://files.pythonhosted.org/packages/17/6b/3b7d6d08b2ab3e5ef09e01c9f7b3b590ee135f289bb94553419e40922c25/stevedore-1.28.0-py2.py3-none-any.whl\n",
            "Collecting python-utils>=2.1.0 (from progressbar2<3.35,>=3.34.3->kaggle-cli->fastai==0.6)\n",
            "  Downloading https://files.pythonhosted.org/packages/eb/a0/19119d8b7c05be49baf6c593f11c432d571b70d805f2fe94c0585e55e4c8/python_utils-2.3.0-py2.py3-none-any.whl\n",
            "Collecting palettable (from mizani>=0.4.1->plotnine->fastai==0.6)\n",
            "\u001b[?25l  Downloading https://files.pythonhosted.org/packages/ba/cc/54b3ebfc5d3369e242c600ed49dcdcd3f53a9ac46b082da274386859c821/palettable-3.1.0-py2.py3-none-any.whl (78kB)\n",
            "\u001b[K    100% |████████████████████████████████| 81kB 8.6MB/s \n",
            "\u001b[?25hRequirement already satisfied: chardet<3.1.0,>=3.0.2 in /usr/local/lib/python3.6/dist-packages (from requests->torchtext->fastai==0.6) (3.0.4)\n",
            "Requirement already satisfied: idna<2.7,>=2.5 in /usr/local/lib/python3.6/dist-packages (from requests->torchtext->fastai==0.6) (2.6)\n",
            "Requirement already satisfied: urllib3<1.23,>=1.21.1 in /usr/local/lib/python3.6/dist-packages (from requests->torchtext->fastai==0.6) (1.22)\n",
            "Collecting pyperclip (from cmd2>=0.6.7->cliff<2.9,>=2.8.0->kaggle-cli->fastai==0.6)\n",
            "  Downloading https://files.pythonhosted.org/packages/5b/06/86e3c6a55cacef0e4ec7c25379ff7fcd1a88fd939ecefd442b535c792fa4/pyperclip-1.6.0.tar.gz\n",
            "Building wheels for collected packages: fastai, bcolz, feather-format, kaggle-cli, pandas-summary, torchtext, jupyter-latex-envs, cliff, configparser, PrettyTable, pyperclip\n",
            "  Running setup.py bdist_wheel for fastai ... \u001b[?25l-\b \b\\\b \bdone\n",
            "\u001b[?25h  Stored in directory: /tmp/pip-ephem-wheel-cache-2xgkj03v/wheels/64/3d/9f/d12a217aa2531321c5b9ae96288fcae2687d3b744376e8f94f\n",
            "  Running setup.py bdist_wheel for bcolz ... \u001b[?25l-\b \b\\\b \b|\b \b/\b \b-\b \b\\\b \b|\b \b/"
          ],
          "name": "stdout"
        },
        {
          "output_type": "stream",
          "text": [
            "\b \b-\b \b\\\b \b|\b \b/\b \b-\b \b\\\b \b|\b \b/\b \b-\b \b\\\b \b|\b \b/\b \b-\b \b\\\b \b|\b \b/\b \b-\b \b\\\b \b|\b \b/\b \b-\b \b\\\b \b|\b \b/\b \b-\b \b\\\b \b|\b \b/\b \b-\b \b\\\b \b|\b \b/\b \b-\b \b\\\b \b|\b \b/\b \b-\b \b\\\b \b|\b \b/\b \b-\b \b\\\b \b|\b \b/\b \b-\b \b\\\b \b|\b \b/\b \b-\b \b\\\b \b|\b \b/\b \b-\b \b\\\b \bdone\n",
            "\u001b[?25h  Stored in directory: /content/.cache/pip/wheels/9f/78/26/fb8c0acb91a100dc8914bf236c4eaa4b207cb876893c40b745\n",
            "  Running setup.py bdist_wheel for feather-format ... \u001b[?25l-\b \bdone\n",
            "\u001b[?25h  Stored in directory: /content/.cache/pip/wheels/85/7d/12/2dfa5c0195f921ac935f5e8f27deada74972edc0ae9988a9c1\n",
            "  Running setup.py bdist_wheel for kaggle-cli ... \u001b[?25l-\b \bdone\n",
            "\u001b[?25h  Stored in directory: /content/.cache/pip/wheels/d5/bb/10/c1dd1b08c7433c943cb55c46367ae3f891415e8a37300ff8a7\n",
            "  Running setup.py bdist_wheel for pandas-summary ... \u001b[?25l-\b \bdone\n",
            "\u001b[?25h  Stored in directory: /content/.cache/pip/wheels/86/a9/6b/36b727a9ec687dac08bd3d0501cddd7b1a223943513eb04a03\n",
            "  Running setup.py bdist_wheel for torchtext ... \u001b[?25l-\b \b\\\b \bdone\n",
            "\u001b[?25h  Stored in directory: /content/.cache/pip/wheels/42/a6/f4/b267328bde6bb680094a0c173e8e5627ccc99543abded97204\n",
            "  Running setup.py bdist_wheel for jupyter-latex-envs ... \u001b[?25l-\b \b\\\b \bdone\n",
            "\u001b[?25h  Stored in directory: /content/.cache/pip/wheels/65/c1/0f/b90b6d7032c79ee40181fdadb72b2ef9a186f02269d6c52f02\n",
            "  Running setup.py bdist_wheel for cliff ... \u001b[?25l-\b \b\\\b \bdone\n",
            "\u001b[?25h  Stored in directory: /content/.cache/pip/wheels/50/00/6d/d4aeb5ccdd47dd76800592b26f943e4959bc705b2d4e6e54e1\n",
            "  Running setup.py bdist_wheel for configparser ... \u001b[?25l-\b \bdone\n",
            "\u001b[?25h  Stored in directory: /content/.cache/pip/wheels/a3/61/79/424ef897a2f3b14684a7de5d89e8600b460b89663e6ce9d17c\n",
            "  Running setup.py bdist_wheel for PrettyTable ... \u001b[?25l-\b \bdone\n",
            "\u001b[?25h  Stored in directory: /content/.cache/pip/wheels/80/34/1c/3967380d9676d162cb59513bd9dc862d0584e045a162095606\n",
            "  Running setup.py bdist_wheel for pyperclip ... \u001b[?25l-\b \bdone\n",
            "\u001b[?25h  Stored in directory: /content/.cache/pip/wheels/a7/68/ef/ab1ef01625334f10a979e9fe5ef79e1c4fd4cdf4b710a0067b\n",
            "Successfully built fastai bcolz feather-format kaggle-cli pandas-summary torchtext jupyter-latex-envs cliff configparser PrettyTable pyperclip\n",
            "\u001b[31mkaggle-cli 0.12.13 has requirement lxml<4.1,>=4.0.0, but you'll have lxml 4.2.1 which is incompatible.\u001b[0m\n",
            "Installing collected packages: jmespath, docutils, botocore, s3transfer, colorama, awscli, bcolz, pyarrow, feather-format, graphviz, widgetsnbextension, ipywidgets, isoweek, parso, jedi, jupyter-console, qtconsole, jupyter, lxml, jupyter-highlight-selected-word, jupyter-contrib-core, jupyter-nbextensions-configurator, jupyter-latex-envs, jupyter-contrib-nbextensions, pbr, pyperclip, cmd2, PrettyTable, stevedore, cliff, MechanicalSoup, cssselect, configparser, python-utils, progressbar2, kaggle-cli, pandas-summary, palettable, mizani, plotnine, sklearn-pandas, tqdm, torchtext, fastai\n",
            "Successfully installed MechanicalSoup-0.8.0 PrettyTable-0.7.2 awscli-1.15.15 bcolz-1.2.1 botocore-1.10.15 cliff-2.8.1 cmd2-0.8.5 colorama-0.3.7 configparser-3.5.0 cssselect-1.0.3 docutils-0.14 fastai-0.6 feather-format-0.4.0 graphviz-0.8.3 ipywidgets-7.2.1 isoweek-1.3.3 jedi-0.12.0 jmespath-0.9.3 jupyter-1.0.0 jupyter-console-5.2.0 jupyter-contrib-core-0.3.3 jupyter-contrib-nbextensions-0.5.0 jupyter-highlight-selected-word-0.2.0 jupyter-latex-envs-1.4.4 jupyter-nbextensions-configurator-0.4.0 kaggle-cli-0.12.13 lxml-4.2.1 mizani-0.4.6 palettable-3.1.0 pandas-summary-0.0.41 parso-0.2.0 pbr-4.0.2 plotnine-0.3.0 progressbar2-3.34.3 pyarrow-0.9.0 pyperclip-1.6.0 python-utils-2.3.0 qtconsole-4.3.1 s3transfer-0.1.13 sklearn-pandas-1.6.0 stevedore-1.28.0 torchtext-0.2.3 tqdm-4.23.3 widgetsnbextension-3.2.1\n"
          ],
          "name": "stdout"
        }
      ]
    },
    {
      "metadata": {
        "id": "SBzhGAububOJ",
        "colab_type": "text"
      },
      "cell_type": "markdown",
      "source": [
        "###Installing libSM"
      ]
    },
    {
      "metadata": {
        "id": "SXTrf1d8uf7I",
        "colab_type": "text"
      },
      "cell_type": "markdown",
      "source": [
        "The import of fastai is will throw an error that this library is missing. So, Installing the same."
      ]
    },
    {
      "metadata": {
        "id": "Mz4epgjBup5b",
        "colab_type": "code",
        "colab": {
          "autoexec": {
            "startup": false,
            "wait_interval": 0
          },
          "base_uri": "https://localhost:8080/",
          "height": 124
        },
        "outputId": "fb15cf0b-e736-4267-90fd-f6eb8525f5de",
        "executionInfo": {
          "status": "ok",
          "timestamp": 1525793668419,
          "user_tz": 420,
          "elapsed": 2873,
          "user": {
            "displayName": "Stas Bekman",
            "photoUrl": "//lh5.googleusercontent.com/-xRbMIr7YjVQ/AAAAAAAAAAI/AAAAAAAAALU/2fwJIpvRiB0/s50-c-k-no/photo.jpg",
            "userId": "118276073810201132801"
          }
        }
      },
      "cell_type": "code",
      "source": [
        "!apt install -y libsm6 libxext6"
      ],
      "execution_count": 6,
      "outputs": [
        {
          "output_type": "stream",
          "text": [
            "Reading package lists... Done\n",
            "Building dependency tree       \n",
            "Reading state information... Done\n",
            "libsm6 is already the newest version (2:1.2.2-1).\n",
            "libxext6 is already the newest version (2:1.3.3-1).\n",
            "0 upgraded, 0 newly installed, 0 to remove and 0 not upgraded.\n"
          ],
          "name": "stdout"
        }
      ]
    },
    {
      "metadata": {
        "id": "95KZHwPTvde3",
        "colab_type": "text"
      },
      "cell_type": "markdown",
      "source": [
        "###Downloading the dataset"
      ]
    },
    {
      "metadata": {
        "id": "FJPKhur_wFwc",
        "colab_type": "code",
        "colab": {
          "autoexec": {
            "startup": false,
            "wait_interval": 0
          },
          "base_uri": "https://localhost:8080/",
          "height": 214
        },
        "outputId": "cbf7666a-d4a7-494e-f193-cf86423fb100",
        "executionInfo": {
          "status": "ok",
          "timestamp": 1525793721817,
          "user_tz": 420,
          "elapsed": 52765,
          "user": {
            "displayName": "Stas Bekman",
            "photoUrl": "//lh5.googleusercontent.com/-xRbMIr7YjVQ/AAAAAAAAAAI/AAAAAAAAALU/2fwJIpvRiB0/s50-c-k-no/photo.jpg",
            "userId": "118276073810201132801"
          }
        }
      },
      "cell_type": "code",
      "source": [
        "mkdir data && wget http://files.fast.ai/data/dogscats.zip && unzip -q dogscats.zip -d data/"
      ],
      "execution_count": 7,
      "outputs": [
        {
          "output_type": "stream",
          "text": [
            "--2018-05-08 15:34:30--  http://files.fast.ai/data/dogscats.zip\n",
            "Resolving files.fast.ai (files.fast.ai)... 67.205.15.147\n",
            "Connecting to files.fast.ai (files.fast.ai)|67.205.15.147|:80... connected.\n",
            "HTTP request sent, awaiting response... 200 OK\n",
            "Length: 857214334 (818M) [application/zip]\n",
            "Saving to: ‘dogscats.zip’\n",
            "\n",
            "dogscats.zip        100%[===================>] 817.50M  16.5MB/s    in 40s     \n",
            "\n",
            "2018-05-08 15:35:10 (20.5 MB/s) - ‘dogscats.zip’ saved [857214334/857214334]\n",
            "\n"
          ],
          "name": "stdout"
        }
      ]
    },
    {
      "metadata": {
        "id": "_TqUbkvOnUUu",
        "colab_type": "text"
      },
      "cell_type": "markdown",
      "source": [
        "## Image classification with Convolutional Neural Networks. Part 2"
      ]
    },
    {
      "metadata": {
        "id": "LatDXFBYnUUw",
        "colab_type": "text"
      },
      "cell_type": "markdown",
      "source": [
        "## Setup"
      ]
    },
    {
      "metadata": {
        "id": "ExvPkf9unUUx",
        "colab_type": "code",
        "colab": {
          "autoexec": {
            "startup": false,
            "wait_interval": 0
          }
        }
      },
      "cell_type": "code",
      "source": [
        "# Put these at the top of every notebook, to get automatic reloading and inline plotting\n",
        "%reload_ext autoreload\n",
        "%autoreload 2\n",
        "%matplotlib inline"
      ],
      "execution_count": 0,
      "outputs": []
    },
    {
      "metadata": {
        "id": "GXFz-SepnUU0",
        "colab_type": "text"
      },
      "cell_type": "markdown",
      "source": [
        "Here we import the libraries we need. We'll learn about what each does during the course."
      ]
    },
    {
      "metadata": {
        "id": "pne3H32snUU1",
        "colab_type": "code",
        "colab": {
          "autoexec": {
            "startup": false,
            "wait_interval": 0
          }
        }
      },
      "cell_type": "code",
      "source": [
        "# This file contains all the main external libs we'll use\n",
        "from fastai.imports import *"
      ],
      "execution_count": 0,
      "outputs": []
    },
    {
      "metadata": {
        "id": "b9uR8DZEnUU3",
        "colab_type": "code",
        "colab": {
          "autoexec": {
            "startup": false,
            "wait_interval": 0
          }
        }
      },
      "cell_type": "code",
      "source": [
        "from fastai.transforms import *\n",
        "from fastai.conv_learner import *\n",
        "from fastai.model import *\n",
        "from fastai.dataset import *\n",
        "from fastai.sgdr import *\n",
        "from fastai.plots import *"
      ],
      "execution_count": 0,
      "outputs": []
    },
    {
      "metadata": {
        "id": "JYqcdOlknUU5",
        "colab_type": "code",
        "colab": {
          "autoexec": {
            "startup": false,
            "wait_interval": 0
          },
          "base_uri": "https://localhost:8080/",
          "height": 53
        },
        "outputId": "a3e5bedd-1e0e-4f7e-fcae-1fe06a461f98",
        "executionInfo": {
          "status": "ok",
          "timestamp": 1525793730189,
          "user_tz": 420,
          "elapsed": 454,
          "user": {
            "displayName": "Stas Bekman",
            "photoUrl": "//lh5.googleusercontent.com/-xRbMIr7YjVQ/AAAAAAAAAAI/AAAAAAAAALU/2fwJIpvRiB0/s50-c-k-no/photo.jpg",
            "userId": "118276073810201132801"
          }
        }
      },
      "cell_type": "code",
      "source": [
        "PATH = \"data/dogscats/\"\n",
        "printm()"
      ],
      "execution_count": 11,
      "outputs": [
        {
          "output_type": "stream",
          "text": [
            "Gen RAM Free: 12.0 GB  | Proc size: 1.1 GB\n",
            "GPU RAM Free: 564MB | Used: 10875MB | Util:  95% | Total: 11439MB\n"
          ],
          "name": "stdout"
        }
      ]
    },
    {
      "metadata": {
        "id": "_Qg7aE3Xijz7",
        "colab_type": "text"
      },
      "cell_type": "markdown",
      "source": [
        "## Improving our model"
      ]
    },
    {
      "metadata": {
        "id": "Hc2vOVW0ijz_",
        "colab_type": "text"
      },
      "cell_type": "markdown",
      "source": [
        "### Data augmentation"
      ]
    },
    {
      "metadata": {
        "id": "g5fsTR7gij0C",
        "colab_type": "text"
      },
      "cell_type": "markdown",
      "source": [
        "If you try training for more epochs, you'll notice that we start to *overfit*, which means that our model is learning to recognize the specific images in the training set, rather than generalizaing such that we also get good results on the validation set. One way to fix this is to effectively create more data, through *data augmentation*. This refers to randomly changing the images in ways that shouldn't impact their interpretation, such as horizontal flipping, zooming, and rotating.\n",
        "\n",
        "We can do this by passing `aug_tfms` (*augmentation transforms*) to `tfms_from_model`, with a list of functions to apply that randomly change the image however we wish. For photos that are largely taken from the side (e.g. most photos of dogs and cats, as opposed to photos taken from the top down, such as satellite imagery) we can use the pre-defined list of functions `transforms_side_on`. We can also specify random zooming of images up to specified scale by adding the `max_zoom` parameter."
      ]
    },
    {
      "metadata": {
        "id": "lzSdDPsAij0F",
        "colab_type": "code",
        "colab": {
          "autoexec": {
            "startup": false,
            "wait_interval": 0
          },
          "base_uri": "https://localhost:8080/",
          "height": 53
        },
        "outputId": "e871f4d1-b7be-4f40-f57d-00431c734218",
        "executionInfo": {
          "status": "ok",
          "timestamp": 1525793730770,
          "user_tz": 420,
          "elapsed": 357,
          "user": {
            "displayName": "Stas Bekman",
            "photoUrl": "//lh5.googleusercontent.com/-xRbMIr7YjVQ/AAAAAAAAAAI/AAAAAAAAALU/2fwJIpvRiB0/s50-c-k-no/photo.jpg",
            "userId": "118276073810201132801"
          }
        }
      },
      "cell_type": "code",
      "source": [
        "arch=resnet34\n",
        "#sz=60\n",
        "sz=28\n",
        "\n",
        "printm()\n",
        "tfms = tfms_from_model(arch, sz, aug_tfms=transforms_side_on, max_zoom=1.1)"
      ],
      "execution_count": 12,
      "outputs": [
        {
          "output_type": "stream",
          "text": [
            "Gen RAM Free: 12.0 GB  | Proc size: 1.1 GB\n",
            "GPU RAM Free: 564MB | Used: 10875MB | Util:  95% | Total: 11439MB\n"
          ],
          "name": "stdout"
        }
      ]
    },
    {
      "metadata": {
        "id": "MEbKqhRJij0L",
        "colab_type": "code",
        "colab": {
          "autoexec": {
            "startup": false,
            "wait_interval": 0
          }
        }
      },
      "cell_type": "code",
      "source": [
        "def get_augs():\n",
        "    data = ImageClassifierData.from_paths(PATH, bs=2, tfms=tfms, num_workers=1)\n",
        "    x,_ = next(iter(data.aug_dl))\n",
        "    return data.trn_ds.denorm(x)[1]"
      ],
      "execution_count": 0,
      "outputs": []
    },
    {
      "metadata": {
        "id": "M96UhxXjij0Q",
        "colab_type": "code",
        "colab": {
          "autoexec": {
            "startup": false,
            "wait_interval": 0
          }
        }
      },
      "cell_type": "code",
      "source": [
        "ims = np.stack([get_augs() for i in range(6)])"
      ],
      "execution_count": 0,
      "outputs": []
    },
    {
      "metadata": {
        "id": "biAHMsWVij0W",
        "colab_type": "code",
        "colab": {
          "autoexec": {
            "startup": false,
            "wait_interval": 0
          },
          "base_uri": "https://localhost:8080/",
          "height": 375
        },
        "outputId": "79e11d9f-35c2-408e-d6c0-334fc01a6439",
        "executionInfo": {
          "status": "ok",
          "timestamp": 1525793736060,
          "user_tz": 420,
          "elapsed": 937,
          "user": {
            "displayName": "Stas Bekman",
            "photoUrl": "//lh5.googleusercontent.com/-xRbMIr7YjVQ/AAAAAAAAAAI/AAAAAAAAALU/2fwJIpvRiB0/s50-c-k-no/photo.jpg",
            "userId": "118276073810201132801"
          }
        }
      },
      "cell_type": "code",
      "source": [
        "plots(ims, rows=2)"
      ],
      "execution_count": 15,
      "outputs": [
        {
          "output_type": "display_data",
          "data": {
            "image/png": "[encoded data removed]",
            "text/plain": [
              "<matplotlib.figure.Figure at 0x7fc14e8142e8>"
            ]
          },
          "metadata": {
            "tags": []
          }
        }
      ]
    },
    {
      "metadata": {
        "id": "9XZYDABbij0a",
        "colab_type": "text"
      },
      "cell_type": "markdown",
      "source": [
        "Let's create a new `data` object that includes this augmentation in the transforms."
      ]
    },
    {
      "metadata": {
        "id": "k77Y-vT9ij0b",
        "colab_type": "code",
        "colab": {
          "autoexec": {
            "startup": false,
            "wait_interval": 0
          },
          "base_uri": "https://localhost:8080/",
          "height": 88
        },
        "outputId": "bae52e83-b5f0-4780-88e4-062011097e6e",
        "executionInfo": {
          "status": "ok",
          "timestamp": 1525793858440,
          "user_tz": 420,
          "elapsed": 122317,
          "user": {
            "displayName": "Stas Bekman",
            "photoUrl": "//lh5.googleusercontent.com/-xRbMIr7YjVQ/AAAAAAAAAAI/AAAAAAAAALU/2fwJIpvRiB0/s50-c-k-no/photo.jpg",
            "userId": "118276073810201132801"
          }
        }
      },
      "cell_type": "code",
      "source": [
        "\n",
        "data = ImageClassifierData.from_paths(PATH, tfms=tfms, bs=8)\n",
        "learn = ConvLearner.pretrained(arch, data, precompute=True)"
      ],
      "execution_count": 16,
      "outputs": [
        {
          "output_type": "stream",
          "text": [
            "Downloading: \"https://download.pytorch.org/models/resnet34-333f7ec4.pth\" to /content/.torch/models/resnet34-333f7ec4.pth\n",
            "100%|██████████| 87306240/87306240 [00:04<00:00, 19602291.17it/s]\n"
          ],
          "name": "stderr"
        },
        {
          "output_type": "stream",
          "text": [
            "100%|██████████| 2875/2875 [01:45<00:00, 27.22it/s]\n",
            "100%|██████████| 250/250 [00:09<00:00, 27.25it/s]\n"
          ],
          "name": "stdout"
        }
      ]
    },
    {
      "metadata": {
        "id": "aaonPdApij0i",
        "colab_type": "code",
        "colab": {
          "autoexec": {
            "startup": false,
            "wait_interval": 0
          },
          "base_uri": "https://localhost:8080/",
          "height": 142
        },
        "outputId": "8df9c6aa-4661-4b20-bb82-a837c626dccc",
        "executionInfo": {
          "status": "ok",
          "timestamp": 1525793893527,
          "user_tz": 420,
          "elapsed": 35040,
          "user": {
            "displayName": "Stas Bekman",
            "photoUrl": "//lh5.googleusercontent.com/-xRbMIr7YjVQ/AAAAAAAAAAI/AAAAAAAAALU/2fwJIpvRiB0/s50-c-k-no/photo.jpg",
            "userId": "118276073810201132801"
          }
        }
      },
      "cell_type": "code",
      "source": [
        "printm()\n",
        "learn.fit(1e-2, 1)"
      ],
      "execution_count": 17,
      "outputs": [
        {
          "output_type": "stream",
          "text": [
            "Gen RAM Free: 10.8 GB  | Proc size: 2.4 GB\n",
            "GPU RAM Free: 287MB | Used: 11152MB | Util:  97% | Total: 11439MB\n"
          ],
          "name": "stdout"
        },
        {
          "output_type": "display_data",
          "data": {
            "application/vnd.jupyter.widget-view+json": {
              "model_id": "a5992733f02c49fb9eb48a9e3035e79f",
              "version_minor": 0,
              "version_major": 2
            },
            "text/plain": [
              "HBox(children=(IntProgress(value=0, description='Epoch', max=1), HTML(value='')))"
            ]
          },
          "metadata": {
            "tags": []
          }
        },
        {
          "output_type": "stream",
          "text": [
            "epoch      trn_loss   val_loss   accuracy   \n",
            "    0      0.560124   0.502956   0.754     \n",
            "\n"
          ],
          "name": "stdout"
        },
        {
          "output_type": "execute_result",
          "data": {
            "text/plain": [
              "[array([0.50296]), 0.754]"
            ]
          },
          "metadata": {
            "tags": []
          },
          "execution_count": 17
        }
      ]
    },
    {
      "metadata": {
        "id": "GVzV7dLZij0n",
        "colab_type": "code",
        "colab": {
          "autoexec": {
            "startup": false,
            "wait_interval": 0
          }
        }
      },
      "cell_type": "code",
      "source": [
        "learn.precompute=False"
      ],
      "execution_count": 0,
      "outputs": []
    },
    {
      "metadata": {
        "id": "fu7hRZpRij0u",
        "colab_type": "text"
      },
      "cell_type": "markdown",
      "source": [
        "By default when we create a learner, it sets all but the last layer to *frozen*. That means that it's still only updating the weights in the last layer when we call `fit`."
      ]
    },
    {
      "metadata": {
        "id": "J-4rMqIIij0v",
        "colab_type": "code",
        "colab": {
          "autoexec": {
            "startup": false,
            "wait_interval": 0
          },
          "base_uri": "https://localhost:8080/",
          "height": 196
        },
        "outputId": "1d39107e-e4a2-40b7-aa26-aa127619c4f8",
        "executionInfo": {
          "status": "ok",
          "timestamp": 1525794323258,
          "user_tz": 420,
          "elapsed": 429073,
          "user": {
            "displayName": "Stas Bekman",
            "photoUrl": "//lh5.googleusercontent.com/-xRbMIr7YjVQ/AAAAAAAAAAI/AAAAAAAAALU/2fwJIpvRiB0/s50-c-k-no/photo.jpg",
            "userId": "118276073810201132801"
          }
        }
      },
      "cell_type": "code",
      "source": [
        "printm()\n",
        "learn.fit(1e-2, 3, cycle_len=1)\n",
        "printm()\n"
      ],
      "execution_count": 19,
      "outputs": [
        {
          "output_type": "stream",
          "text": [
            "Gen RAM Free: 10.7 GB  | Proc size: 2.5 GB\n",
            "GPU RAM Free: 269MB | Used: 11170MB | Util:  98% | Total: 11439MB\n"
          ],
          "name": "stdout"
        },
        {
          "output_type": "display_data",
          "data": {
            "application/vnd.jupyter.widget-view+json": {
              "model_id": "9724af947b6d4fc886ed1b6c8a2298a0",
              "version_minor": 0,
              "version_major": 2
            },
            "text/plain": [
              "HBox(children=(IntProgress(value=0, description='Epoch', max=3), HTML(value='')))"
            ]
          },
          "metadata": {
            "tags": []
          }
        },
        {
          "output_type": "stream",
          "text": [
            ""
          ],
          "name": "stdout"
        },
        {
          "output_type": "stream",
          "text": [
            "epoch      trn_loss   val_loss   accuracy   \n",
            "    0      0.540751   0.513385   0.7425    \n",
            " 18%|█▊        | 530/2875 [00:25<01:51, 21.08it/s, loss=0.553]"
          ],
          "name": "stdout"
        },
        {
          "output_type": "stream",
          "text": [
            "    1      0.522218   0.488455   0.7665    \n",
            "  0%|          | 0/2875 [00:00<?, ?it/s, loss=0.527]"
          ],
          "name": "stdout"
        },
        {
          "output_type": "stream",
          "text": [
            ""
          ],
          "name": "stdout"
        },
        {
          "output_type": "stream",
          "text": [
            "    2      0.566738   0.498463   0.758     \n",
            "\n",
            "Gen RAM Free: 10.6 GB  | Proc size: 2.6 GB\n",
            "GPU RAM Free: 269MB | Used: 11170MB | Util:  98% | Total: 11439MB\n"
          ],
          "name": "stdout"
        }
      ]
    },
    {
      "metadata": {
        "id": "qj0cpvEwij01",
        "colab_type": "text"
      },
      "cell_type": "markdown",
      "source": [
        "What is that `cycle_len` parameter? What we've done here is used a technique called *stochastic gradient descent with restarts (SGDR)*, a variant of *learning rate annealing*, which gradually decreases the learning rate as training progresses. This is helpful because as we get closer to the optimal weights, we want to take smaller steps.\n",
        "\n",
        "However, we may find ourselves in a part of the weight space that isn't very resilient - that is, small changes to the weights may result in big changes to the loss. We want to encourage our model to find parts of the weight space that are both accurate and stable. Therefore, from time to time we increase the learning rate (this is the 'restarts' in 'SGDR'), which will force the model to jump to a different part of the weight space if the current area is \"spikey\". Here's a picture of how that might look if we reset the learning rates 3 times (in this paper they call it a \"cyclic LR schedule\"):\n",
        "\n",
        "<img src=\"https://github.com/fastai/fastai/raw/master/courses/dl1/images/sgdr.png\" width=\"80%\">\n",
        "(From the paper [Snapshot Ensembles](https://arxiv.org/abs/1704.00109)).\n",
        "\n",
        "The number of epochs between resetting the learning rate is set by `cycle_len`, and the number of times this happens is refered to as the *number of cycles*, and is what we're actually passing as the 2nd parameter to `fit()`. So here's what our actual learning rates looked like:"
      ]
    },
    {
      "metadata": {
        "id": "UbD9_Gjgij04",
        "colab_type": "code",
        "colab": {
          "autoexec": {
            "startup": false,
            "wait_interval": 0
          },
          "base_uri": "https://localhost:8080/",
          "height": 350
        },
        "outputId": "34655bee-ac1a-44fa-99e3-36fd693421a4",
        "executionInfo": {
          "status": "ok",
          "timestamp": 1525794324292,
          "user_tz": 420,
          "elapsed": 979,
          "user": {
            "displayName": "Stas Bekman",
            "photoUrl": "//lh5.googleusercontent.com/-xRbMIr7YjVQ/AAAAAAAAAAI/AAAAAAAAALU/2fwJIpvRiB0/s50-c-k-no/photo.jpg",
            "userId": "118276073810201132801"
          }
        }
      },
      "cell_type": "code",
      "source": [
        "printm()\n",
        "learn.sched.plot_lr()\n",
        "printm()\n"
      ],
      "execution_count": 20,
      "outputs": [
        {
          "output_type": "stream",
          "text": [
            "Gen RAM Free: 10.6 GB  | Proc size: 2.6 GB\n",
            "GPU RAM Free: 269MB | Used: 11170MB | Util:  98% | Total: 11439MB\n",
            "Gen RAM Free: 10.6 GB  | Proc size: 2.6 GB\n",
            "GPU RAM Free: 269MB | Used: 11170MB | Util:  98% | Total: 11439MB\n"
          ],
          "name": "stdout"
        },
        {
          "output_type": "display_data",
          "data": {
            "image/png": "[encoded data removed]",
            "text/plain": [
              "<matplotlib.figure.Figure at 0x7fc0c1b0df28>"
            ]
          },
          "metadata": {
            "tags": []
          }
        }
      ]
    },
    {
      "metadata": {
        "id": "grzGiph6ij09",
        "colab_type": "text"
      },
      "cell_type": "markdown",
      "source": [
        "Our validation loss isn't improving much, so there's probably no point further training the last layer on its own."
      ]
    },
    {
      "metadata": {
        "id": "WXe91r3-ij0_",
        "colab_type": "text"
      },
      "cell_type": "markdown",
      "source": [
        "Since we've got a pretty good model at this point, we might want to save it so we can load it again later without training it from scratch."
      ]
    },
    {
      "metadata": {
        "id": "pxROUoNrij1A",
        "colab_type": "code",
        "colab": {
          "autoexec": {
            "startup": false,
            "wait_interval": 0
          }
        }
      },
      "cell_type": "code",
      "source": [
        "learn.save('224_lastlayer')"
      ],
      "execution_count": 0,
      "outputs": []
    },
    {
      "metadata": {
        "id": "b4bUwurMij1G",
        "colab_type": "code",
        "colab": {
          "autoexec": {
            "startup": false,
            "wait_interval": 0
          }
        }
      },
      "cell_type": "code",
      "source": [
        "learn.load('224_lastlayer')"
      ],
      "execution_count": 0,
      "outputs": []
    },
    {
      "metadata": {
        "id": "BNHoTF_jij1L",
        "colab_type": "text"
      },
      "cell_type": "markdown",
      "source": [
        "### Fine-tuning and differential learning rate annealing"
      ]
    },
    {
      "metadata": {
        "id": "6Fo3fzXpij1N",
        "colab_type": "text"
      },
      "cell_type": "markdown",
      "source": [
        "Now that we have a good final layer trained, we can try fine-tuning the other layers. To tell the learner that we want to unfreeze the remaining layers, just call (surprise surprise!) `unfreeze()`."
      ]
    },
    {
      "metadata": {
        "id": "BMCB6Uklij1P",
        "colab_type": "code",
        "colab": {
          "autoexec": {
            "startup": false,
            "wait_interval": 0
          },
          "base_uri": "https://localhost:8080/",
          "height": 53
        },
        "outputId": "5da7eed9-8976-4408-eb9c-7892ac23e7d3",
        "executionInfo": {
          "status": "ok",
          "timestamp": 1525794326059,
          "user_tz": 420,
          "elapsed": 500,
          "user": {
            "displayName": "Stas Bekman",
            "photoUrl": "//lh5.googleusercontent.com/-xRbMIr7YjVQ/AAAAAAAAAAI/AAAAAAAAALU/2fwJIpvRiB0/s50-c-k-no/photo.jpg",
            "userId": "118276073810201132801"
          }
        }
      },
      "cell_type": "code",
      "source": [
        "learn.unfreeze()\n",
        "printm()\n"
      ],
      "execution_count": 23,
      "outputs": [
        {
          "output_type": "stream",
          "text": [
            "Gen RAM Free: 10.6 GB  | Proc size: 2.6 GB\n",
            "GPU RAM Free: 269MB | Used: 11170MB | Util:  98% | Total: 11439MB\n"
          ],
          "name": "stdout"
        }
      ]
    },
    {
      "metadata": {
        "id": "PZcdLpfNij1T",
        "colab_type": "text"
      },
      "cell_type": "markdown",
      "source": [
        "Note that the other layers have *already* been trained to recognize imagenet photos (whereas our final layers where randomly initialized), so we want to be careful of not destroying the carefully tuned weights that are already there.\n",
        "\n",
        "Generally speaking, the earlier layers (as we've seen) have more general-purpose features. Therefore we would expect them to need less fine-tuning for new datasets. For this reason we will use different learning rates for different layers: the first few layers will be at 1e-4, the middle layers at 1e-3, and our FC layers we'll leave at 1e-2 as before. We refer to this as *differential learning rates*, although there's no standard name for this techique in the literature that we're aware of."
      ]
    },
    {
      "metadata": {
        "id": "LyxmrYduij1U",
        "colab_type": "code",
        "colab": {
          "autoexec": {
            "startup": false,
            "wait_interval": 0
          },
          "base_uri": "https://localhost:8080/",
          "height": 53
        },
        "outputId": "5d2e0b6e-304f-4b21-fbb0-4bed93cb838a",
        "executionInfo": {
          "status": "ok",
          "timestamp": 1525794326791,
          "user_tz": 420,
          "elapsed": 515,
          "user": {
            "displayName": "Stas Bekman",
            "photoUrl": "//lh5.googleusercontent.com/-xRbMIr7YjVQ/AAAAAAAAAAI/AAAAAAAAALU/2fwJIpvRiB0/s50-c-k-no/photo.jpg",
            "userId": "118276073810201132801"
          }
        }
      },
      "cell_type": "code",
      "source": [
        "lr=np.array([1e-4,1e-3,1e-2])\n",
        "printm()\n"
      ],
      "execution_count": 24,
      "outputs": [
        {
          "output_type": "stream",
          "text": [
            "Gen RAM Free: 10.6 GB  | Proc size: 2.6 GB\n",
            "GPU RAM Free: 269MB | Used: 11170MB | Util:  98% | Total: 11439MB\n"
          ],
          "name": "stdout"
        }
      ]
    },
    {
      "metadata": {
        "id": "RZAjON4Gij1Z",
        "colab_type": "code",
        "colab": {
          "autoexec": {
            "startup": false,
            "wait_interval": 0
          },
          "base_uri": "https://localhost:8080/",
          "height": 231
        },
        "outputId": "517361ae-d2a0-4f13-af66-03df409a8f17",
        "executionInfo": {
          "status": "ok",
          "timestamp": 1525796040515,
          "user_tz": 420,
          "elapsed": 1713486,
          "user": {
            "displayName": "Stas Bekman",
            "photoUrl": "//lh5.googleusercontent.com/-xRbMIr7YjVQ/AAAAAAAAAAI/AAAAAAAAALU/2fwJIpvRiB0/s50-c-k-no/photo.jpg",
            "userId": "118276073810201132801"
          }
        }
      },
      "cell_type": "code",
      "source": [
        "learn.fit(lr, 3, cycle_len=1, cycle_mult=2)\n",
        "printm()\n"
      ],
      "execution_count": 25,
      "outputs": [
        {
          "output_type": "display_data",
          "data": {
            "application/vnd.jupyter.widget-view+json": {
              "model_id": "d91b844a446c4c53a1c0a5b5af589f9c",
              "version_minor": 0,
              "version_major": 2
            },
            "text/plain": [
              "HBox(children=(IntProgress(value=0, description='Epoch', max=7), HTML(value='')))"
            ]
          },
          "metadata": {
            "tags": []
          }
        },
        {
          "output_type": "stream",
          "text": [
            ""
          ],
          "name": "stdout"
        },
        {
          "output_type": "stream",
          "text": [
            "epoch      trn_loss   val_loss   accuracy   \n",
            "    0      0.504453   0.493084   0.7835    \n",
            " 15%|█▌        | 435/2875 [00:36<03:26, 11.83it/s, loss=0.536]"
          ],
          "name": "stdout"
        },
        {
          "output_type": "stream",
          "text": [
            "    1      0.489217   0.448113   0.8185    \n",
            "  0%|          | 0/2875 [00:00<?, ?it/s, loss=0.485]"
          ],
          "name": "stdout"
        },
        {
          "output_type": "stream",
          "text": [
            "    2      0.459872   0.421459   0.8215    \n",
            "  0%|          | 0/2875 [00:00<?, ?it/s, loss=0.461]"
          ],
          "name": "stdout"
        },
        {
          "output_type": "stream",
          "text": [
            "    3      0.477993   0.449046   0.831     \n",
            "  0%|          | 0/2875 [00:00<?, ?it/s, loss=0.474]"
          ],
          "name": "stdout"
        },
        {
          "output_type": "stream",
          "text": [
            "    4      0.46839    0.42141    0.821     \n",
            "  0%|          | 0/2875 [00:00<?, ?it/s, loss=0.465]"
          ],
          "name": "stdout"
        },
        {
          "output_type": "stream",
          "text": [
            "    5      0.451602   0.416085   0.8435    \n",
            "  0%|          | 0/2875 [00:00<?, ?it/s, loss=0.448]"
          ],
          "name": "stdout"
        },
        {
          "output_type": "stream",
          "text": [
            ""
          ],
          "name": "stdout"
        },
        {
          "output_type": "stream",
          "text": [
            "    6      0.416137   0.391531   0.8435    \n",
            "\n",
            "Gen RAM Free: 10.6 GB  | Proc size: 2.6 GB\n",
            "GPU RAM Free: 92MB | Used: 11347MB | Util:  99% | Total: 11439MB\n"
          ],
          "name": "stdout"
        }
      ]
    },
    {
      "metadata": {
        "id": "GjofgOymij1c",
        "colab_type": "text"
      },
      "cell_type": "markdown",
      "source": [
        "Another trick we've used here is adding the `cycle_mult` parameter. Take a look at the following chart, and see if you can figure out what the parameter is doing:"
      ]
    },
    {
      "metadata": {
        "id": "WDoxrzc5ij1d",
        "colab_type": "code",
        "colab": {
          "autoexec": {
            "startup": false,
            "wait_interval": 0
          },
          "base_uri": "https://localhost:8080/",
          "height": 279
        },
        "outputId": "ae43c77d-31fb-473d-a06b-40c01c9fbb3a",
        "executionInfo": {
          "status": "ok",
          "timestamp": 1525796041447,
          "user_tz": 420,
          "elapsed": 871,
          "user": {
            "displayName": "Stas Bekman",
            "photoUrl": "//lh5.googleusercontent.com/-xRbMIr7YjVQ/AAAAAAAAAAI/AAAAAAAAALU/2fwJIpvRiB0/s50-c-k-no/photo.jpg",
            "userId": "118276073810201132801"
          }
        }
      },
      "cell_type": "code",
      "source": [
        "learn.sched.plot_lr()"
      ],
      "execution_count": 26,
      "outputs": [
        {
          "output_type": "display_data",
          "data": {
            "image/png": "[encoded data removed]",
            "text/plain": [
              "<matplotlib.figure.Figure at 0x7fc089573ef0>"
            ]
          },
          "metadata": {
            "tags": []
          }
        }
      ]
    },
    {
      "metadata": {
        "id": "4Ix96ItNij2D",
        "colab_type": "text"
      },
      "cell_type": "markdown",
      "source": [
        "Note that's what being plotted above is the learning rate of the *final layers*. The learning rates of the earlier layers are fixed at the same multiples of the final layer rates as we initially requested (i.e. the first layers have 100x smaller, and middle layers 10x smaller learning rates, since we set `lr=np.array([1e-4,1e-3,1e-2])`."
      ]
    },
    {
      "metadata": {
        "id": "uEUMh69aij2E",
        "colab_type": "code",
        "colab": {
          "autoexec": {
            "startup": false,
            "wait_interval": 0
          }
        }
      },
      "cell_type": "code",
      "source": [
        "learn.save('224_all')"
      ],
      "execution_count": 0,
      "outputs": []
    },
    {
      "metadata": {
        "id": "iVQsR8_Dij2I",
        "colab_type": "code",
        "colab": {
          "autoexec": {
            "startup": false,
            "wait_interval": 0
          }
        }
      },
      "cell_type": "code",
      "source": [
        "learn.load('224_all')"
      ],
      "execution_count": 0,
      "outputs": []
    },
    {
      "metadata": {
        "id": "m88aqXjLij2N",
        "colab_type": "text"
      },
      "cell_type": "markdown",
      "source": [
        "There is something else we can do with data augmentation: use it at *inference* time (also known as *test* time). Not surprisingly, this is known as *test time augmentation*, or just *TTA*.\n",
        "\n",
        "TTA simply makes predictions not just on the images in your validation set, but also makes predictions on a number of randomly augmented versions of them too (by default, it uses the original image along with 4 randomly augmented versions). It then takes the average prediction from these images, and uses that. To use TTA on the validation set, we can use the learner's `TTA()` method."
      ]
    },
    {
      "metadata": {
        "id": "m285eO0cAvNk",
        "colab_type": "code",
        "colab": {
          "autoexec": {
            "startup": false,
            "wait_interval": 0
          },
          "base_uri": "https://localhost:8080/",
          "height": 750
        },
        "outputId": "b99d637c-4dc6-4f0d-eb9a-a5e4db6aa48e",
        "executionInfo": {
          "status": "ok",
          "timestamp": 1525796088353,
          "user_tz": 420,
          "elapsed": 45624,
          "user": {
            "displayName": "Stas Bekman",
            "photoUrl": "//lh5.googleusercontent.com/-xRbMIr7YjVQ/AAAAAAAAAAI/AAAAAAAAALU/2fwJIpvRiB0/s50-c-k-no/photo.jpg",
            "userId": "118276073810201132801"
          }
        }
      },
      "cell_type": "code",
      "source": [
        "printm()\n",
        "log_preds,y = learn.TTA()\n",
        "log_preds"
      ],
      "execution_count": 29,
      "outputs": [
        {
          "output_type": "stream",
          "text": [
            "Gen RAM Free: 10.6 GB  | Proc size: 2.6 GB\n",
            "GPU RAM Free: 92MB | Used: 11347MB | Util:  99% | Total: 11439MB\n"
          ],
          "name": "stdout"
        },
        {
          "output_type": "execute_result",
          "data": {
            "text/plain": [
              "array([[[-0.15804, -1.9229 ],\n",
              "        [-0.94355, -0.49306],\n",
              "        [-0.71573, -0.67106],\n",
              "        ...,\n",
              "        [-1.09979, -0.40488],\n",
              "        [-2.35478, -0.09973],\n",
              "        [-1.50283, -0.25167]],\n",
              "\n",
              "       [[-0.10632, -2.294  ],\n",
              "        [-0.73425, -0.65366],\n",
              "        [-0.53621, -0.87938],\n",
              "        ...,\n",
              "        [-1.24403, -0.33999],\n",
              "        [-2.59198, -0.07782],\n",
              "        [-2.07647, -0.13396]],\n",
              "\n",
              "       [[-0.10572, -2.29937],\n",
              "        [-0.62601, -0.76512],\n",
              "        [-0.40063, -1.10836],\n",
              "        ...,\n",
              "        [-1.59701, -0.22628],\n",
              "        [-2.36284, -0.09888],\n",
              "        [-2.33447, -0.10188]],\n",
              "\n",
              "       [[-0.09475, -2.40351],\n",
              "        [-0.56982, -0.83385],\n",
              "        [-0.3623 , -1.19097],\n",
              "        ...,\n",
              "        [-1.49116, -0.25504],\n",
              "        [-1.4914 , -0.25497],\n",
              "        [-1.70709, -0.20015]],\n",
              "\n",
              "       [[-0.15346, -1.95009],\n",
              "        [-1.16387, -0.37437],\n",
              "        [-0.83539, -0.56864],\n",
              "        ...,\n",
              "        [-0.91462, -0.51194],\n",
              "        [-2.88094, -0.05772],\n",
              "        [-2.53454, -0.08262]]], dtype=float32)"
            ]
          },
          "metadata": {
            "tags": []
          },
          "execution_count": 29
        }
      ]
    },
    {
      "metadata": {
        "id": "VlDZvnegij2P",
        "colab_type": "code",
        "colab": {
          "autoexec": {
            "startup": false,
            "wait_interval": 0
          },
          "base_uri": "https://localhost:8080/",
          "height": 160
        },
        "outputId": "2c4bf85b-6b0e-411f-f4ba-ea7d083ed60b",
        "executionInfo": {
          "status": "ok",
          "timestamp": 1525796663718,
          "user_tz": 420,
          "elapsed": 443,
          "user": {
            "displayName": "Stas Bekman",
            "photoUrl": "//lh5.googleusercontent.com/-xRbMIr7YjVQ/AAAAAAAAAAI/AAAAAAAAALU/2fwJIpvRiB0/s50-c-k-no/photo.jpg",
            "userId": "118276073810201132801"
          }
        }
      },
      "cell_type": "code",
      "source": [
        "\n",
        "\n",
        "print(y)\n",
        "probs = np.mean(np.exp(log_preds), 0)\n",
        "print(probs)\n"
      ],
      "execution_count": 35,
      "outputs": [
        {
          "output_type": "stream",
          "text": [
            "[0 0 0 ... 1 1 1]\n",
            "[[0.88399 0.11601]\n",
            " [0.45635 0.54365]\n",
            " [0.57469 0.42531]\n",
            " ...\n",
            " [0.28989 0.71011]\n",
            " [0.10902 0.89098]\n",
            " [0.14108 0.85892]]\n"
          ],
          "name": "stdout"
        }
      ]
    },
    {
      "metadata": {
        "id": "b4LHghw8ij2T",
        "colab_type": "code",
        "colab": {
          "autoexec": {
            "startup": false,
            "wait_interval": 0
          },
          "base_uri": "https://localhost:8080/",
          "height": 35
        },
        "outputId": "6ad8e008-f085-4691-93df-a2adf1836744",
        "executionInfo": {
          "status": "ok",
          "timestamp": 1525796664404,
          "user_tz": 420,
          "elapsed": 391,
          "user": {
            "displayName": "Stas Bekman",
            "photoUrl": "//lh5.googleusercontent.com/-xRbMIr7YjVQ/AAAAAAAAAAI/AAAAAAAAALU/2fwJIpvRiB0/s50-c-k-no/photo.jpg",
            "userId": "118276073810201132801"
          }
        }
      },
      "cell_type": "code",
      "source": [
        "accuracy_np(probs, y)"
      ],
      "execution_count": 36,
      "outputs": [
        {
          "output_type": "execute_result",
          "data": {
            "text/plain": [
              "0.856"
            ]
          },
          "metadata": {
            "tags": []
          },
          "execution_count": 36
        }
      ]
    },
    {
      "metadata": {
        "id": "cGsY0KgTij2W",
        "colab_type": "text"
      },
      "cell_type": "markdown",
      "source": [
        "I generally see about a 10-20% reduction in error on this dataset when using TTA at this point, which is an amazing result for such a quick and easy technique!"
      ]
    },
    {
      "metadata": {
        "id": "-Gfj1uQBnUW2",
        "colab_type": "text"
      },
      "cell_type": "markdown",
      "source": [
        "### Fine-tuning and differential learning rate annealing"
      ]
    },
    {
      "metadata": {
        "id": "lnjaUNEMnUW2",
        "colab_type": "text"
      },
      "cell_type": "markdown",
      "source": [
        "Now that we have a good final layer trained, we can try fine-tuning the other layers. To tell the learner that we want to unfreeze the remaining layers, just call (surprise surprise!) `unfreeze()`."
      ]
    },
    {
      "metadata": {
        "id": "uKsIPBiqnUW2",
        "colab_type": "code",
        "colab": {
          "autoexec": {
            "startup": false,
            "wait_interval": 0
          },
          "base_uri": "https://localhost:8080/",
          "height": 53
        },
        "outputId": "02a65def-fbb2-4438-e2b5-46029980a250",
        "executionInfo": {
          "status": "ok",
          "timestamp": 1525796665201,
          "user_tz": 420,
          "elapsed": 531,
          "user": {
            "displayName": "Stas Bekman",
            "photoUrl": "//lh5.googleusercontent.com/-xRbMIr7YjVQ/AAAAAAAAAAI/AAAAAAAAALU/2fwJIpvRiB0/s50-c-k-no/photo.jpg",
            "userId": "118276073810201132801"
          }
        }
      },
      "cell_type": "code",
      "source": [
        "learn.unfreeze()\n",
        "printm()"
      ],
      "execution_count": 37,
      "outputs": [
        {
          "output_type": "stream",
          "text": [
            "Gen RAM Free: 10.6 GB  | Proc size: 2.6 GB\n",
            "GPU RAM Free: 92MB | Used: 11347MB | Util:  99% | Total: 11439MB\n"
          ],
          "name": "stdout"
        }
      ]
    },
    {
      "metadata": {
        "id": "1JReVHqinUW5",
        "colab_type": "text"
      },
      "cell_type": "markdown",
      "source": [
        "Note that the other layers have *already* been trained to recognize imagenet photos (whereas our final layers where randomly initialized), so we want to be careful of not destroying the carefully tuned weights that are already there.\n",
        "\n",
        "Generally speaking, the earlier layers (as we've seen) have more general-purpose features. Therefore we would expect them to need less fine-tuning for new datasets. For this reason we will use different learning rates for different layers: the first few layers will be at 1e-4, the middle layers at 1e-3, and our FC layers we'll leave at 1e-2 as before. We refer to this as *differential learning rates*, although there's no standard name for this techique in the literature that we're aware of."
      ]
    },
    {
      "metadata": {
        "id": "yUzc8SZ7nUW6",
        "colab_type": "code",
        "colab": {
          "autoexec": {
            "startup": false,
            "wait_interval": 0
          }
        }
      },
      "cell_type": "code",
      "source": [
        "lr=np.array([1e-4,1e-3,1e-2])"
      ],
      "execution_count": 0,
      "outputs": []
    },
    {
      "metadata": {
        "id": "VS5t1YpInUW8",
        "colab_type": "code",
        "colab": {
          "autoexec": {
            "startup": false,
            "wait_interval": 0
          },
          "base_uri": "https://localhost:8080/",
          "height": 214
        },
        "outputId": "4a041ef4-66cd-4398-eefc-d195861097bb",
        "executionInfo": {
          "status": "ok",
          "timestamp": 1525798391026,
          "user_tz": 420,
          "elapsed": 1725139,
          "user": {
            "displayName": "Stas Bekman",
            "photoUrl": "//lh5.googleusercontent.com/-xRbMIr7YjVQ/AAAAAAAAAAI/AAAAAAAAALU/2fwJIpvRiB0/s50-c-k-no/photo.jpg",
            "userId": "118276073810201132801"
          }
        }
      },
      "cell_type": "code",
      "source": [
        "learn.fit(lr, 3, cycle_len=1, cycle_mult=2)"
      ],
      "execution_count": 39,
      "outputs": [
        {
          "output_type": "display_data",
          "data": {
            "application/vnd.jupyter.widget-view+json": {
              "model_id": "1d174f51fdd94f4c97f8def7cc9cc166",
              "version_minor": 0,
              "version_major": 2
            },
            "text/plain": [
              "HBox(children=(IntProgress(value=0, description='Epoch', max=7), HTML(value='')))"
            ]
          },
          "metadata": {
            "tags": []
          }
        },
        {
          "output_type": "stream",
          "text": [
            ""
          ],
          "name": "stdout"
        },
        {
          "output_type": "stream",
          "text": [
            "epoch      trn_loss   val_loss   accuracy   \n",
            "    0      0.388135   0.389835   0.842     \n",
            " 15%|█▌        | 436/2875 [00:36<03:25, 11.85it/s, loss=0.448]"
          ],
          "name": "stdout"
        },
        {
          "output_type": "stream",
          "text": [
            "    1      0.438209   0.408214   0.834     \n",
            "  0%|          | 0/2875 [00:00<?, ?it/s, loss=0.437]"
          ],
          "name": "stdout"
        },
        {
          "output_type": "stream",
          "text": [
            "    2      0.411237   0.379001   0.8415    \n",
            "  0%|          | 0/2875 [00:00<?, ?it/s, loss=0.408]"
          ],
          "name": "stdout"
        },
        {
          "output_type": "stream",
          "text": [
            "    3      0.398537   0.395265   0.8255    \n",
            "  0%|          | 0/2875 [00:00<?, ?it/s, loss=0.4]"
          ],
          "name": "stdout"
        },
        {
          "output_type": "stream",
          "text": [
            "    4      0.379015   0.397887   0.8465    \n",
            "  0%|          | 0/2875 [00:00<?, ?it/s, loss=0.381]"
          ],
          "name": "stdout"
        },
        {
          "output_type": "stream",
          "text": [
            "    5      0.37575    0.392398   0.843     \n",
            "  0%|          | 0/2875 [00:00<?, ?it/s, loss=0.378]"
          ],
          "name": "stdout"
        },
        {
          "output_type": "stream",
          "text": [
            "    6      0.364562   0.377341   0.8345    \n",
            "\n"
          ],
          "name": "stdout"
        },
        {
          "output_type": "execute_result",
          "data": {
            "text/plain": [
              "[array([0.37734]), 0.8345]"
            ]
          },
          "metadata": {
            "tags": []
          },
          "execution_count": 39
        }
      ]
    },
    {
      "metadata": {
        "id": "b3foh59ynUW_",
        "colab_type": "text"
      },
      "cell_type": "markdown",
      "source": [
        "Another trick we've used here is adding the `cycle_mult` parameter. Take a look at the following chart, and see if you can figure out what the parameter is doing:"
      ]
    },
    {
      "metadata": {
        "id": "195rrvTbnUW_",
        "colab_type": "code",
        "colab": {
          "autoexec": {
            "startup": false,
            "wait_interval": 0
          },
          "base_uri": "https://localhost:8080/",
          "height": 279
        },
        "outputId": "2aacae97-1c40-4daa-e5f5-8204f5ac528e",
        "executionInfo": {
          "status": "ok",
          "timestamp": 1525798392098,
          "user_tz": 420,
          "elapsed": 1005,
          "user": {
            "displayName": "Stas Bekman",
            "photoUrl": "//lh5.googleusercontent.com/-xRbMIr7YjVQ/AAAAAAAAAAI/AAAAAAAAALU/2fwJIpvRiB0/s50-c-k-no/photo.jpg",
            "userId": "118276073810201132801"
          }
        }
      },
      "cell_type": "code",
      "source": [
        "learn.sched.plot_lr()"
      ],
      "execution_count": 40,
      "outputs": [
        {
          "output_type": "display_data",
          "data": {
            "image/png": "[encoded data removed]",
            "text/plain": [
              "<matplotlib.figure.Figure at 0x7fc0f5bd84e0>"
            ]
          },
          "metadata": {
            "tags": []
          }
        }
      ]
    },
    {
      "metadata": {
        "id": "q904pi_InUXA",
        "colab_type": "text"
      },
      "cell_type": "markdown",
      "source": [
        "Note that's what being plotted above is the learning rate of the *final layers*. The learning rates of the earlier layers are fixed at the same multiples of the final layer rates as we initially requested (i.e. the first layers have 100x smaller, and middle layers 10x smaller learning rates, since we set `lr=np.array([1e-4,1e-3,1e-2])`."
      ]
    },
    {
      "metadata": {
        "id": "7fjTxRTFnUXB",
        "colab_type": "code",
        "colab": {
          "autoexec": {
            "startup": false,
            "wait_interval": 0
          }
        }
      },
      "cell_type": "code",
      "source": [
        "learn.save('224_all')"
      ],
      "execution_count": 0,
      "outputs": []
    },
    {
      "metadata": {
        "id": "ncn6MM96nUXC",
        "colab_type": "code",
        "colab": {
          "autoexec": {
            "startup": false,
            "wait_interval": 0
          }
        }
      },
      "cell_type": "code",
      "source": [
        "learn.load('224_all')"
      ],
      "execution_count": 0,
      "outputs": []
    },
    {
      "metadata": {
        "id": "s6zZsYkznUXE",
        "colab_type": "text"
      },
      "cell_type": "markdown",
      "source": [
        "There is something else we can do with data augmentation: use it at *inference* time (also known as *test* time). Not surprisingly, this is known as *test time augmentation*, or just *TTA*.\n",
        "\n",
        "TTA simply makes predictions not just on the images in your validation set, but also makes predictions on a number of randomly augmented versions of them too (by default, it uses the original image along with 4 randomly augmented versions). It then takes the average prediction from these images, and uses that. To use TTA on the validation set, we can use the learner's `TTA()` method."
      ]
    },
    {
      "metadata": {
        "id": "o2Fp8ABynUXF",
        "colab_type": "code",
        "colab": {
          "autoexec": {
            "startup": false,
            "wait_interval": 0
          },
          "base_uri": "https://localhost:8080/",
          "height": 17
        },
        "outputId": "f28ef9c3-c001-4271-9866-092bfb66c4a6",
        "executionInfo": {
          "status": "ok",
          "timestamp": 1525798440808,
          "user_tz": 420,
          "elapsed": 47376,
          "user": {
            "displayName": "Stas Bekman",
            "photoUrl": "//lh5.googleusercontent.com/-xRbMIr7YjVQ/AAAAAAAAAAI/AAAAAAAAALU/2fwJIpvRiB0/s50-c-k-no/photo.jpg",
            "userId": "118276073810201132801"
          }
        }
      },
      "cell_type": "code",
      "source": [
        "log_preds,y = learn.TTA()\n",
        "probs = np.mean(np.exp(log_preds),0)"
      ],
      "execution_count": 43,
      "outputs": [
        {
          "output_type": "stream",
          "text": [
            ""
          ],
          "name": "stdout"
        }
      ]
    },
    {
      "metadata": {
        "id": "uJD9QmTPnUXG",
        "colab_type": "code",
        "colab": {
          "autoexec": {
            "startup": false,
            "wait_interval": 0
          },
          "base_uri": "https://localhost:8080/",
          "height": 71
        },
        "outputId": "4d4c273c-5a70-4928-ae64-f08c42f5e878",
        "executionInfo": {
          "status": "ok",
          "timestamp": 1525798441335,
          "user_tz": 420,
          "elapsed": 487,
          "user": {
            "displayName": "Stas Bekman",
            "photoUrl": "//lh5.googleusercontent.com/-xRbMIr7YjVQ/AAAAAAAAAAI/AAAAAAAAALU/2fwJIpvRiB0/s50-c-k-no/photo.jpg",
            "userId": "118276073810201132801"
          }
        }
      },
      "cell_type": "code",
      "source": [
        "printm()\n",
        "accuracy_np(probs, y)"
      ],
      "execution_count": 44,
      "outputs": [
        {
          "output_type": "stream",
          "text": [
            "Gen RAM Free: 10.6 GB  | Proc size: 2.6 GB\n",
            "GPU RAM Free: 92MB | Used: 11347MB | Util:  99% | Total: 11439MB\n"
          ],
          "name": "stdout"
        },
        {
          "output_type": "execute_result",
          "data": {
            "text/plain": [
              "0.858"
            ]
          },
          "metadata": {
            "tags": []
          },
          "execution_count": 44
        }
      ]
    },
    {
      "metadata": {
        "id": "BnVAkNM4nUXI",
        "colab_type": "text"
      },
      "cell_type": "markdown",
      "source": [
        "I generally see about a 10-20% reduction in error on this dataset when using TTA at this point, which is an amazing result for such a quick and easy technique!"
      ]
    },
    {
      "metadata": {
        "id": "1ieLDh_mnUXJ",
        "colab_type": "text"
      },
      "cell_type": "markdown",
      "source": [
        "## Analyzing results"
      ]
    },
    {
      "metadata": {
        "id": "inb_TZaenUXJ",
        "colab_type": "text"
      },
      "cell_type": "markdown",
      "source": [
        "### Confusion matrix "
      ]
    },
    {
      "metadata": {
        "id": "4HwlDF4qnUXK",
        "colab_type": "code",
        "colab": {
          "autoexec": {
            "startup": false,
            "wait_interval": 0
          }
        }
      },
      "cell_type": "code",
      "source": [
        "preds = np.argmax(probs, axis=1)\n",
        "probs = probs[:,1]"
      ],
      "execution_count": 0,
      "outputs": []
    },
    {
      "metadata": {
        "id": "LpoZ9YbanUXL",
        "colab_type": "text"
      },
      "cell_type": "markdown",
      "source": [
        "A common way to analyze the result of a classification model is to use a [confusion matrix](http://www.dataschool.io/simple-guide-to-confusion-matrix-terminology/). Scikit-learn has a convenient function we can use for this purpose:"
      ]
    },
    {
      "metadata": {
        "id": "SXhYRbuXnUXL",
        "colab_type": "code",
        "colab": {
          "autoexec": {
            "startup": false,
            "wait_interval": 0
          }
        }
      },
      "cell_type": "code",
      "source": [
        "from sklearn.metrics import confusion_matrix\n",
        "cm = confusion_matrix(y, preds)"
      ],
      "execution_count": 0,
      "outputs": []
    },
    {
      "metadata": {
        "id": "1LU779PgnUXO",
        "colab_type": "text"
      },
      "cell_type": "markdown",
      "source": [
        "We can just print out the confusion matrix, or we can show a graphical view (which is mainly useful for dependents with a larger number of categories)."
      ]
    },
    {
      "metadata": {
        "id": "sBUxHL8anUXO",
        "colab_type": "code",
        "colab": {
          "autoexec": {
            "startup": false,
            "wait_interval": 0
          },
          "base_uri": "https://localhost:8080/",
          "height": 347
        },
        "outputId": "4efa9e77-1af6-41ff-f551-4a97e7df61f4",
        "executionInfo": {
          "status": "ok",
          "timestamp": 1525798443589,
          "user_tz": 420,
          "elapsed": 796,
          "user": {
            "displayName": "Stas Bekman",
            "photoUrl": "//lh5.googleusercontent.com/-xRbMIr7YjVQ/AAAAAAAAAAI/AAAAAAAAALU/2fwJIpvRiB0/s50-c-k-no/photo.jpg",
            "userId": "118276073810201132801"
          }
        }
      },
      "cell_type": "code",
      "source": [
        "plot_confusion_matrix(cm, data.classes)"
      ],
      "execution_count": 47,
      "outputs": [
        {
          "output_type": "stream",
          "text": [
            "[[823 177]\n",
            " [107 893]]\n"
          ],
          "name": "stdout"
        },
        {
          "output_type": "display_data",
          "data": {
            "image/png": "[encoded data removed]",
            "text/plain": [
              "<matplotlib.figure.Figure at 0x7fc0c1930e10>"
            ]
          },
          "metadata": {
            "tags": []
          }
        }
      ]
    },
    {
      "metadata": {
        "id": "-lAVToBAnUXR",
        "colab_type": "text"
      },
      "cell_type": "markdown",
      "source": [
        "### Looking at pictures again"
      ]
    },
    {
      "metadata": {
        "id": "SwSkjmccnUXR",
        "colab_type": "code",
        "colab": {
          "autoexec": {
            "startup": false,
            "wait_interval": 0
          },
          "base_uri": "https://localhost:8080/",
          "height": 229
        },
        "outputId": "3385d083-8c54-4a52-e5f8-e05159878235",
        "executionInfo": {
          "status": "ok",
          "timestamp": 1525798444429,
          "user_tz": 420,
          "elapsed": 793,
          "user": {
            "displayName": "Stas Bekman",
            "photoUrl": "//lh5.googleusercontent.com/-xRbMIr7YjVQ/AAAAAAAAAAI/AAAAAAAAALU/2fwJIpvRiB0/s50-c-k-no/photo.jpg",
            "userId": "118276073810201132801"
          }
        }
      },
      "cell_type": "code",
      "source": [
        "def most_by_mask(mask, mult):\n",
        "    idxs = np.where(mask)[0]\n",
        "    return idxs[np.argsort(mult * probs[idxs])[:4]]\n",
        "\n",
        "def most_by_correct(y, is_correct): \n",
        "    mult = -1 if (y==1)==is_correct else 1\n",
        "    return most_by_mask((preds == data.val_y)==is_correct & (data.val_y == y), mult)\n",
        "  \n",
        "def plot_val_with_title(idxs, title):\n",
        "    imgs = np.stack([data.val_ds[x][0] for x in idxs])\n",
        "    title_probs = [probs[x] for x in idxs]\n",
        "    print(title)\n",
        "    return plots(data.val_ds.denorm(imgs), rows=1, titles=title_probs)\n",
        "  \n",
        "plot_val_with_title(most_by_correct(0, False), \"Most incorrect cats\")"
      ],
      "execution_count": 48,
      "outputs": [
        {
          "output_type": "stream",
          "text": [
            "Most incorrect cats\n"
          ],
          "name": "stdout"
        },
        {
          "output_type": "display_data",
          "data": {
            "image/png": "[encoded data removed]",
            "text/plain": [
              "<matplotlib.figure.Figure at 0x7fc0c1970b00>"
            ]
          },
          "metadata": {
            "tags": []
          }
        }
      ]
    },
    {
      "metadata": {
        "id": "omAql1agnUXS",
        "colab_type": "code",
        "colab": {
          "autoexec": {
            "startup": false,
            "wait_interval": 0
          },
          "base_uri": "https://localhost:8080/",
          "height": 229
        },
        "outputId": "11715894-2229-442a-ba01-82821a5cb1c9",
        "executionInfo": {
          "status": "ok",
          "timestamp": 1525798445215,
          "user_tz": 420,
          "elapsed": 751,
          "user": {
            "displayName": "Stas Bekman",
            "photoUrl": "//lh5.googleusercontent.com/-xRbMIr7YjVQ/AAAAAAAAAAI/AAAAAAAAALU/2fwJIpvRiB0/s50-c-k-no/photo.jpg",
            "userId": "118276073810201132801"
          }
        }
      },
      "cell_type": "code",
      "source": [
        "plot_val_with_title(most_by_correct(1, False), \"Most incorrect dogs\")"
      ],
      "execution_count": 49,
      "outputs": [
        {
          "output_type": "stream",
          "text": [
            "Most incorrect dogs\n"
          ],
          "name": "stdout"
        },
        {
          "output_type": "display_data",
          "data": {
            "image/png": "[encoded data removed]",
            "text/plain": [
              "<matplotlib.figure.Figure at 0x7fc0c1a33cc0>"
            ]
          },
          "metadata": {
            "tags": []
          }
        }
      ]
    },
    {
      "metadata": {
        "id": "h4oPKUgRnUXT",
        "colab_type": "text"
      },
      "cell_type": "markdown",
      "source": [
        "## Review: easy steps to train a world-class image classifier"
      ]
    },
    {
      "metadata": {
        "id": "ld67Zj_9nUXT",
        "colab_type": "text"
      },
      "cell_type": "markdown",
      "source": [
        "1. Enable data augmentation, and precompute=True\n",
        "1. Use `lr_find()` to find highest learning rate where loss is still clearly improving\n",
        "1. Train last layer from precomputed activations for 1-2 epochs\n",
        "1. Train last layer with data augmentation (i.e. precompute=False) for 2-3 epochs with cycle_len=1\n",
        "1. Unfreeze all layers\n",
        "1. Set earlier layers to 3x-10x lower learning rate than next higher layer\n",
        "1. Use `lr_find()` again\n",
        "1. Train full network with cycle_mult=2 until over-fitting"
      ]
    },
    {
      "metadata": {
        "id": "BzrwOaT9nUXU",
        "colab_type": "text"
      },
      "cell_type": "markdown",
      "source": [
        "## Understanding the code for our first model"
      ]
    },
    {
      "metadata": {
        "id": "uKgfvVkqnUXU",
        "colab_type": "text"
      },
      "cell_type": "markdown",
      "source": [
        "Let's look at the Dogs v Cats code line by line.\n",
        "\n",
        "**tfms** stands for *transformations*. `tfms_from_model` takes care of resizing, image cropping, initial normalization (creating data with (mean,stdev) of (0,1)), and more."
      ]
    },
    {
      "metadata": {
        "id": "sMU7t5R4nUXU",
        "colab_type": "code",
        "colab": {
          "autoexec": {
            "startup": false,
            "wait_interval": 0
          }
        }
      },
      "cell_type": "code",
      "source": [
        "tfms = tfms_from_model(resnet34, sz)"
      ],
      "execution_count": 0,
      "outputs": []
    },
    {
      "metadata": {
        "id": "QoSfhsQAnUXW",
        "colab_type": "text"
      },
      "cell_type": "markdown",
      "source": [
        "We need a <b>path</b> that points to the dataset. In this path we will also store temporary data and final results. `ImageClassifierData.from_paths` reads data from a provided path and creates a dataset ready for training."
      ]
    },
    {
      "metadata": {
        "id": "BepY0wPtnUXX",
        "colab_type": "code",
        "colab": {
          "autoexec": {
            "startup": false,
            "wait_interval": 0
          }
        }
      },
      "cell_type": "code",
      "source": [
        "data = ImageClassifierData.from_paths(PATH, tfms=tfms)"
      ],
      "execution_count": 0,
      "outputs": []
    },
    {
      "metadata": {
        "id": "nTflS07QnUXX",
        "colab_type": "text"
      },
      "cell_type": "markdown",
      "source": [
        "`ConvLearner.pretrained` builds *learner* that contains a pre-trained model. The last layer of the model needs to be replaced with the layer of the right dimensions. The pretained model was trained for 1000 classes therfore the final layer predicts a vector of 1000 probabilities. The model for cats and dogs needs to output a two dimensional vector. The diagram below shows in an example how this was done in one of the earliest successful CNNs. The layer \"FC8\" here would get replaced with a new layer with 2 outputs.\n",
        "\n",
        "<img src=\"https://image.slidesharecdn.com/practicaldeeplearning-160329181459/95/practical-deep-learning-16-638.jpg\" width=\"500\">\n",
        "[original image](https://image.slidesharecdn.com/practicaldeeplearning-160329181459/95/practical-deep-learning-16-638.jpg)"
      ]
    },
    {
      "metadata": {
        "id": "sId94KXRnUXY",
        "colab_type": "code",
        "colab": {
          "autoexec": {
            "startup": false,
            "wait_interval": 0
          }
        }
      },
      "cell_type": "code",
      "source": [
        "learn = ConvLearner.pretrained(resnet34, data, precompute=True)"
      ],
      "execution_count": 0,
      "outputs": []
    },
    {
      "metadata": {
        "id": "j4OeKhbunUXZ",
        "colab_type": "text"
      },
      "cell_type": "markdown",
      "source": [
        "*Parameters*  are learned by fitting a model to the data. *Hyparameters* are another kind of parameter, that cannot be directly learned from the regular training process. These parameters express “higher-level” properties of the model such as its complexity or how fast it should learn. Two examples of hyperparameters are the *learning rate* and the *number of epochs*.\n",
        "\n",
        "During iterative training of a neural network, a *batch* or *mini-batch* is a subset of training samples used in one iteration of Stochastic Gradient Descent (SGD). An *epoch* is a single pass through the entire training set which consists of multiple iterations of SGD.\n",
        "\n",
        "We can now *fit* the model; that is, use *gradient descent* to find the best parameters for the fully connected layer we added, that can separate cat pictures from dog pictures. We need to pass two hyperameters: the *learning rate* (generally 1e-2 or 1e-3 is a good starting point, we'll look more at this next) and the *number of epochs* (you can pass in a higher number and just stop training when you see it's no longer improving, then re-run it with the number of epochs you found works well.)"
      ]
    },
    {
      "metadata": {
        "id": "cmFCz0JznUXZ",
        "colab_type": "code",
        "colab": {
          "autoexec": {
            "startup": false,
            "wait_interval": 0
          },
          "base_uri": "https://localhost:8080/",
          "height": 106
        },
        "outputId": "9824d75a-7aa4-47a5-83ba-59494758b646",
        "executionInfo": {
          "status": "ok",
          "timestamp": 1525798459127,
          "user_tz": 420,
          "elapsed": 10268,
          "user": {
            "displayName": "Stas Bekman",
            "photoUrl": "//lh5.googleusercontent.com/-xRbMIr7YjVQ/AAAAAAAAAAI/AAAAAAAAALU/2fwJIpvRiB0/s50-c-k-no/photo.jpg",
            "userId": "118276073810201132801"
          }
        }
      },
      "cell_type": "code",
      "source": [
        "learn.fit(1e-2, 1)"
      ],
      "execution_count": 53,
      "outputs": [
        {
          "output_type": "display_data",
          "data": {
            "application/vnd.jupyter.widget-view+json": {
              "model_id": "1f05ad4d08d74c9b8d3742b63dec829b",
              "version_minor": 0,
              "version_major": 2
            },
            "text/plain": [
              "HBox(children=(IntProgress(value=0, description='Epoch', max=1), HTML(value='')))"
            ]
          },
          "metadata": {
            "tags": []
          }
        },
        {
          "output_type": "stream",
          "text": [
            "epoch      trn_loss   val_loss   accuracy   \n",
            "    0      0.555489   0.493714   0.765     \n",
            "\n"
          ],
          "name": "stdout"
        },
        {
          "output_type": "execute_result",
          "data": {
            "text/plain": [
              "[array([0.49371]), 0.765]"
            ]
          },
          "metadata": {
            "tags": []
          },
          "execution_count": 53
        }
      ]
    },
    {
      "metadata": {
        "id": "uf52htCgnUXa",
        "colab_type": "text"
      },
      "cell_type": "markdown",
      "source": [
        "## Analyzing results: loss and accuracy"
      ]
    },
    {
      "metadata": {
        "id": "npeQfEDYnUXa",
        "colab_type": "text"
      },
      "cell_type": "markdown",
      "source": [
        "When we run `learn.fit` we print 3 performance values (see above.) Here 0.03 is the value of the **loss** in the training set, 0.0226 is the value of the loss in the validation set and 0.9927 is the validation accuracy. What is the loss? What is accuracy? Why not to just show accuracy?\n",
        "\n",
        "**Accuracy** is the ratio of correct prediction to the total number of predictions.\n",
        "\n",
        "In machine learning the **loss** function or cost function is representing the price paid for inaccuracy of predictions.\n",
        "\n",
        "The loss associated with one example in binary classification is given by:\n",
        "`-(y * log(p) + (1-y) * log (1-p))`\n",
        "where `y` is the true label of `x` and `p` is the probability predicted by our model that the label is 1."
      ]
    },
    {
      "metadata": {
        "id": "yTQhR_0lnUXb",
        "colab_type": "code",
        "colab": {
          "autoexec": {
            "startup": false,
            "wait_interval": 0
          }
        }
      },
      "cell_type": "code",
      "source": [
        "def binary_loss(y, p):\n",
        "    return np.mean(-(y * np.log(p) + (1-y)*np.log(1-p)))"
      ],
      "execution_count": 0,
      "outputs": []
    },
    {
      "metadata": {
        "id": "PHieJosXnUXb",
        "colab_type": "code",
        "colab": {
          "autoexec": {
            "startup": false,
            "wait_interval": 0
          },
          "base_uri": "https://localhost:8080/",
          "height": 35
        },
        "outputId": "9b137bb5-7028-422b-a6af-3f3fb144f4df",
        "executionInfo": {
          "status": "ok",
          "timestamp": 1525798460207,
          "user_tz": 420,
          "elapsed": 391,
          "user": {
            "displayName": "Stas Bekman",
            "photoUrl": "//lh5.googleusercontent.com/-xRbMIr7YjVQ/AAAAAAAAAAI/AAAAAAAAALU/2fwJIpvRiB0/s50-c-k-no/photo.jpg",
            "userId": "118276073810201132801"
          }
        }
      },
      "cell_type": "code",
      "source": [
        "acts = np.array([1, 0, 0, 1])\n",
        "preds = np.array([0.9, 0.1, 0.2, 0.8])\n",
        "binary_loss(acts, preds)"
      ],
      "execution_count": 55,
      "outputs": [
        {
          "output_type": "execute_result",
          "data": {
            "text/plain": [
              "0.164252033486018"
            ]
          },
          "metadata": {
            "tags": []
          },
          "execution_count": 55
        }
      ]
    },
    {
      "metadata": {
        "id": "02vQVwU4nUXc",
        "colab_type": "text"
      },
      "cell_type": "markdown",
      "source": [
        "Note that in our toy example above our accuracy is 100% and our loss is 0.16. Compare that to a loss of 0.03 that we are getting while predicting cats and dogs. Exercise: play with `preds` to get a lower loss for this example. \n",
        "\n",
        "**Example:** Here is an example on how to compute the loss for one example of binary classification problem. Suppose for an image x with label 1 and your model gives it a prediction of 0.9. For this case the loss should be small because our model is predicting a label $1$ with high probability.\n",
        "\n",
        "`loss = -log(0.9) = 0.10`\n",
        "\n",
        "Now suppose x has label 0 but our model is predicting 0.9. In this case our loss is should be much larger.\n",
        "\n",
        "loss = -log(1-0.9) = 2.30\n",
        "\n",
        "- Exercise: look at the other cases and convince yourself that this make sense.\n",
        "- Exercise: how would you rewrite `binary_loss` using `if` instead of `*` and `+`?\n",
        "\n",
        "Why not just maximize accuracy? The binary classification loss is an easier function to optimize."
      ]
    },
    {
      "metadata": {
        "id": "U1SrbKNGreHZ",
        "colab_type": "code",
        "colab": {
          "autoexec": {
            "startup": false,
            "wait_interval": 0
          },
          "base_uri": "https://localhost:8080/",
          "height": 53
        },
        "outputId": "f6a14ff8-1276-458b-8b80-acb9faba793a",
        "executionInfo": {
          "status": "ok",
          "timestamp": 1525798534682,
          "user_tz": 420,
          "elapsed": 531,
          "user": {
            "displayName": "Stas Bekman",
            "photoUrl": "//lh5.googleusercontent.com/-xRbMIr7YjVQ/AAAAAAAAAAI/AAAAAAAAALU/2fwJIpvRiB0/s50-c-k-no/photo.jpg",
            "userId": "118276073810201132801"
          }
        }
      },
      "cell_type": "code",
      "source": [
        "printm()"
      ],
      "execution_count": 56,
      "outputs": [
        {
          "output_type": "stream",
          "text": [
            "Gen RAM Free: 10.5 GB  | Proc size: 2.7 GB\n",
            "GPU RAM Free: 18MB | Used: 11421MB | Util: 100% | Total: 11439MB\n"
          ],
          "name": "stdout"
        }
      ]
    }
  ]
}