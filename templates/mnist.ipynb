{
 "cells": [
  {
   "cell_type": "markdown",
   "metadata": {},
   "source": [
    "# MNIST templates"
   ]
  },
  {
   "cell_type": "code",
   "execution_count": 1,
   "metadata": {},
   "outputs": [],
   "source": [
    "%load_ext autoreload\n",
    "%autoreload 2\n",
    "\n",
    "%matplotlib inline"
   ]
  },
  {
   "cell_type": "code",
   "execution_count": 2,
   "metadata": {},
   "outputs": [],
   "source": [
    "from fastai.vision import *\n",
    "from fastai import datasets\n",
    "\n",
    "MNIST_URL='http://deeplearning.net/data/mnist/mnist.pkl'\n",
    "\n",
    "def get_data():\n",
    "    path = datasets.download_data(MNIST_URL, ext='.gz')\n",
    "    with gzip.open(path, 'rb') as f:\n",
    "        ((x_train, y_train), (x_valid, y_valid), _) = pickle.load(f, encoding='latin-1')\n",
    "    #return map(tensor, (x_train,y_train,x_valid,y_valid))\n",
    "    return x_train,y_train,x_valid,y_valid"
   ]
  },
  {
   "cell_type": "markdown",
   "metadata": {},
   "source": [
    "Let's get the data and training interface from where we left in the last notebook."
   ]
  },
  {
   "cell_type": "code",
   "execution_count": 7,
   "metadata": {},
   "outputs": [
    {
     "data": {
      "text/plain": [
       "(50000, 10000)"
      ]
     },
     "execution_count": 7,
     "metadata": {},
     "output_type": "execute_result"
    }
   ],
   "source": [
    "x_train,y_train,x_valid,y_valid = get_data()\n",
    "len(x_train), len(x_valid)"
   ]
  },
  {
   "cell_type": "markdown",
   "metadata": {},
   "source": [
    "## n-class subset\n",
    "\n",
    "Get a sub-set of only a few classes (e.g. to do faster calculations during initial dev)"
   ]
  },
  {
   "cell_type": "code",
   "execution_count": 13,
   "metadata": {
    "run_control": {
     "marked": false
    }
   },
   "outputs": [
    {
     "data": {
      "text/plain": [
       "(0, 1, 1, 1, 1)"
      ]
     },
     "execution_count": 13,
     "metadata": {},
     "output_type": "execute_result"
    },
    {
     "data": {
      "text/plain": [
       "(1, 0, 1, 0, 0)"
      ]
     },
     "execution_count": 13,
     "metadata": {},
     "output_type": "execute_result"
    },
    {
     "data": {
      "text/plain": [
       "(10610, 2055)"
      ]
     },
     "execution_count": 13,
     "metadata": {},
     "output_type": "execute_result"
    }
   ],
   "source": [
    "def get_subset(x, y, n_classes): \n",
    "    \"extract only entries that are in n_classes (e.g. n_classes=2 for int classes: 0, 1)\"\n",
    "    return list(zip(*[(x[i],y[i]) for i in range(len(y)) if y[i] < n_classes]))\n",
    "\n",
    "# 0, 1 subset - y's are integers\n",
    "n_classes = 2\n",
    "x2_train,y2_train = get_subset(x_train, y_train, n_classes)\n",
    "x2_valid,y2_valid = get_subset(x_valid, y_valid, n_classes)\n",
    "y2_train[:5]\n",
    "y2_valid[:5]\n",
    "len(x2_train), len(x2_valid)"
   ]
  },
  {
   "cell_type": "markdown",
   "metadata": {},
   "source": [
    "## all-class sub-sample\n",
    "\n",
    "Get a sample of size N from each class"
   ]
  },
  {
   "cell_type": "code",
   "execution_count": 16,
   "metadata": {},
   "outputs": [
    {
     "data": {
      "text/plain": [
       "(5, 0, 4, 1, 9)"
      ]
     },
     "execution_count": 16,
     "metadata": {},
     "output_type": "execute_result"
    },
    {
     "data": {
      "text/plain": [
       "(3, 8, 6, 9, 6)"
      ]
     },
     "execution_count": 16,
     "metadata": {},
     "output_type": "execute_result"
    },
    {
     "data": {
      "text/plain": [
       "(500, 500)"
      ]
     },
     "execution_count": 16,
     "metadata": {},
     "output_type": "execute_result"
    }
   ],
   "source": [
    "def get_sample(x, y, n_classes, sample_size):\n",
    "    \"extract only a sample size from each class\"\n",
    "    cnt = torch.zeros(n_classes)\n",
    "    return list(zip(*[(x[i],y[i]) for i in range(len(y)) if cnt[y[i]].add_(1) < sample_size+1]))\n",
    "\n",
    "sample_size = 50\n",
    "n_classes = 10 # y_train.max()+1 \n",
    "\n",
    "x3_train,y3_train = get_sample(x_train, y_train, n_classes, sample_size)\n",
    "x3_valid,y3_valid = get_sample(x_valid, y_valid, n_classes, sample_size)\n",
    "\n",
    "y3_train[:5]\n",
    "y3_valid[:5]\n",
    "len(x3_train), len(x3_valid)"
   ]
  },
  {
   "cell_type": "markdown",
   "metadata": {},
   "source": [
    "## n-class sub-sample\n",
    "\n",
    "Get a sub-set of only a few classes and further a sub-sample of each"
   ]
  },
  {
   "cell_type": "code",
   "execution_count": 15,
   "metadata": {},
   "outputs": [
    {
     "data": {
      "text/plain": [
       "(0, 1, 1, 1, 1)"
      ]
     },
     "execution_count": 15,
     "metadata": {},
     "output_type": "execute_result"
    },
    {
     "data": {
      "text/plain": [
       "(1, 0, 1, 0, 0)"
      ]
     },
     "execution_count": 15,
     "metadata": {},
     "output_type": "execute_result"
    },
    {
     "data": {
      "text/plain": [
       "(100, 100)"
      ]
     },
     "execution_count": 15,
     "metadata": {},
     "output_type": "execute_result"
    }
   ],
   "source": [
    "sample_size = 50\n",
    "n_classes = 2\n",
    "# stage 1 - get only n-classes\n",
    "x5_train,y5_train = get_subset(x_train, y_train, n_classes)\n",
    "x5_valid,y5_valid = get_subset(x_valid, y_valid, n_classes)\n",
    "# stage 2 - get a sub-sample\n",
    "x6_train,y6_train = get_sample(x5_train, y5_train, n_classes, sample_size)\n",
    "x6_valid,y6_valid = get_sample(x5_valid, y5_valid, n_classes, sample_size)\n",
    "\n",
    "\n",
    "y6_train[:5]\n",
    "y6_valid[:5]\n",
    "\n",
    "len(x6_train), len(x6_valid)"
   ]
  }
 ],
 "metadata": {
  "hide_input": false,
  "kernelspec": {
   "display_name": "Python 3",
   "language": "python",
   "name": "python3"
  },
  "language_info": {
   "codemirror_mode": {
    "name": "ipython",
    "version": 3
   },
   "file_extension": ".py",
   "mimetype": "text/x-python",
   "name": "python",
   "nbconvert_exporter": "python",
   "pygments_lexer": "ipython3",
   "version": "3.7.2"
  },
  "toc": {
   "base_numbering": 1,
   "nav_menu": {},
   "number_sections": true,
   "sideBar": true,
   "skip_h1_title": false,
   "title_cell": "Table of Contents",
   "title_sidebar": "Contents",
   "toc_cell": false,
   "toc_position": {
    "height": "calc(100% - 180px)",
    "left": "10px",
    "top": "150px",
    "width": "263.188px"
   },
   "toc_section_display": true,
   "toc_window_display": true
  }
 },
 "nbformat": 4,
 "nbformat_minor": 2
}
